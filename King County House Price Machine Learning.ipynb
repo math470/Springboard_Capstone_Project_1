{
 "cells": [
  {
   "cell_type": "markdown",
   "metadata": {},
   "source": [
    "# Capstone Project: King County House Price Predictions\n",
    "# IV. Machine Learning"
   ]
  },
  {
   "cell_type": "markdown",
   "metadata": {},
   "source": [
    "### Overview"
   ]
  },
  {
   "cell_type": "markdown",
   "metadata": {},
   "source": [
    "In the previous parts of this project, I have taken care of missing values and added some new columns using existing columns. I still need to do the followings before building machine learning models in the first section.\n",
    "- Make more new columns\n",
    "- Remove unnecessary columns\n",
    "- One-hot encoding for non-numerical columns\n",
    "- Split training-test sets\n",
    "\n",
    "After preparing data, the following 5 machine learning models will be built and compared\n",
    "- Ridge regression (Linear regression) \n",
    "- Random  Forest\n",
    "- XGBoost\n",
    "- LightGBM\n",
    "- Neural Network\n",
    "\n",
    "I chose ridge regression as a base model to be compared with other more complex models of interst. Tree based ensemble models have been winning models in many competitions like Kaggle, so I decided to try Randome Forest, XGBoost, and LightGBM. To add some fun variation in the choice of models, I decided to try a neural network model at the end."
   ]
  },
  {
   "cell_type": "markdown",
   "metadata": {},
   "source": [
    "### Table of Contents\n",
    "\n",
    "1. <a href='#Section1'>Prepare data</a>.\n",
    "2. <a href='#Section2'>Ridge Regression (Linear Regression)</a>\n",
    "3. <a href='#Section3'>Random Forest</a>\n",
    "4. <a href='#Section4'>XGBoost</a>\n",
    "5. <a href='#Section5'>LighGBM</a>\n",
    "6. <a href='#Section6'>Neural network</a>\n",
    "7. <a href='#Section7'>Feature importances</a>\n",
    "8. <a href='#Section8'>Conclusion</a>\n",
    "\n",
    "_The dataset was already cleaned and explored in the previous parts of this project. See the Jupyter notebooks for Data wrangling, Storytelling (EDA) and Inferential Statistics in the Capstone project 1 respository for more details._"
   ]
  },
  {
   "cell_type": "markdown",
   "metadata": {},
   "source": [
    "<a id= 'Section1'></a>\n",
    "\n",
    "## 1. Prepare data"
   ]
  },
  {
   "cell_type": "code",
   "execution_count": 528,
   "metadata": {},
   "outputs": [],
   "source": [
    "# import basic packages\n",
    "import matplotlib.pyplot as plt\n",
    "import numpy as np\n",
    "import pandas as pd\n",
    "import seaborn as sns\n",
    "import pickle\n",
    "\n",
    "# import machine learning packages\n",
    "from sklearn.preprocessing import StandardScaler\n",
    "from sklearn.pipeline import Pipeline\n",
    "from sklearn.model_selection import GridSearchCV\n",
    "from sklearn.metrics import mean_squared_error\n",
    "from sklearn.metrics import r2_score\n",
    "from sklearn.metrics import mean_absolute_error"
   ]
  },
  {
   "cell_type": "code",
   "execution_count": 2,
   "metadata": {
    "scrolled": false
   },
   "outputs": [
    {
     "data": {
      "text/html": [
       "<div>\n",
       "<style scoped>\n",
       "    .dataframe tbody tr th:only-of-type {\n",
       "        vertical-align: middle;\n",
       "    }\n",
       "\n",
       "    .dataframe tbody tr th {\n",
       "        vertical-align: top;\n",
       "    }\n",
       "\n",
       "    .dataframe thead th {\n",
       "        text-align: right;\n",
       "    }\n",
       "</style>\n",
       "<table border=\"1\" class=\"dataframe\">\n",
       "  <thead>\n",
       "    <tr style=\"text-align: right;\">\n",
       "      <th></th>\n",
       "      <th>id</th>\n",
       "      <th>date</th>\n",
       "      <th>price</th>\n",
       "      <th>bedrooms</th>\n",
       "      <th>bathrooms</th>\n",
       "      <th>sqft_living</th>\n",
       "      <th>sqft_lot</th>\n",
       "      <th>floors</th>\n",
       "      <th>waterfront</th>\n",
       "      <th>view</th>\n",
       "      <th>...</th>\n",
       "      <th>cost_of_living_score</th>\n",
       "      <th>diversity_score</th>\n",
       "      <th>good_for_families_score</th>\n",
       "      <th>health_fitness_score</th>\n",
       "      <th>housing_score</th>\n",
       "      <th>jobs_score</th>\n",
       "      <th>nightlife_score</th>\n",
       "      <th>outdoor_activities_score</th>\n",
       "      <th>public_schools_score</th>\n",
       "      <th>weather_score</th>\n",
       "    </tr>\n",
       "  </thead>\n",
       "  <tbody>\n",
       "    <tr>\n",
       "      <th>0</th>\n",
       "      <td>7129300520</td>\n",
       "      <td>2014-10-13</td>\n",
       "      <td>221900.0</td>\n",
       "      <td>3</td>\n",
       "      <td>1.00</td>\n",
       "      <td>1180</td>\n",
       "      <td>5650</td>\n",
       "      <td>1.0</td>\n",
       "      <td>0</td>\n",
       "      <td>0</td>\n",
       "      <td>...</td>\n",
       "      <td>2.0</td>\n",
       "      <td>4.3</td>\n",
       "      <td>3.0</td>\n",
       "      <td>4.0</td>\n",
       "      <td>2.0</td>\n",
       "      <td>2.7</td>\n",
       "      <td>3.7</td>\n",
       "      <td>4.0</td>\n",
       "      <td>3.0</td>\n",
       "      <td>3.0</td>\n",
       "    </tr>\n",
       "    <tr>\n",
       "      <th>1</th>\n",
       "      <td>6414100192</td>\n",
       "      <td>2014-12-09</td>\n",
       "      <td>538000.0</td>\n",
       "      <td>3</td>\n",
       "      <td>2.25</td>\n",
       "      <td>2570</td>\n",
       "      <td>7242</td>\n",
       "      <td>2.0</td>\n",
       "      <td>0</td>\n",
       "      <td>0</td>\n",
       "      <td>...</td>\n",
       "      <td>1.7</td>\n",
       "      <td>4.0</td>\n",
       "      <td>3.7</td>\n",
       "      <td>4.3</td>\n",
       "      <td>2.0</td>\n",
       "      <td>2.7</td>\n",
       "      <td>4.0</td>\n",
       "      <td>4.0</td>\n",
       "      <td>3.7</td>\n",
       "      <td>3.0</td>\n",
       "    </tr>\n",
       "    <tr>\n",
       "      <th>2</th>\n",
       "      <td>5631500400</td>\n",
       "      <td>2015-02-25</td>\n",
       "      <td>180000.0</td>\n",
       "      <td>2</td>\n",
       "      <td>1.00</td>\n",
       "      <td>770</td>\n",
       "      <td>10000</td>\n",
       "      <td>1.0</td>\n",
       "      <td>0</td>\n",
       "      <td>0</td>\n",
       "      <td>...</td>\n",
       "      <td>2.0</td>\n",
       "      <td>3.7</td>\n",
       "      <td>4.0</td>\n",
       "      <td>4.3</td>\n",
       "      <td>3.0</td>\n",
       "      <td>3.3</td>\n",
       "      <td>3.7</td>\n",
       "      <td>4.0</td>\n",
       "      <td>4.3</td>\n",
       "      <td>3.0</td>\n",
       "    </tr>\n",
       "    <tr>\n",
       "      <th>3</th>\n",
       "      <td>2487200875</td>\n",
       "      <td>2014-12-09</td>\n",
       "      <td>604000.0</td>\n",
       "      <td>4</td>\n",
       "      <td>3.00</td>\n",
       "      <td>1960</td>\n",
       "      <td>5000</td>\n",
       "      <td>1.0</td>\n",
       "      <td>0</td>\n",
       "      <td>0</td>\n",
       "      <td>...</td>\n",
       "      <td>2.0</td>\n",
       "      <td>3.3</td>\n",
       "      <td>4.0</td>\n",
       "      <td>4.0</td>\n",
       "      <td>2.7</td>\n",
       "      <td>3.3</td>\n",
       "      <td>3.0</td>\n",
       "      <td>4.0</td>\n",
       "      <td>3.7</td>\n",
       "      <td>3.0</td>\n",
       "    </tr>\n",
       "    <tr>\n",
       "      <th>4</th>\n",
       "      <td>1954400510</td>\n",
       "      <td>2015-02-18</td>\n",
       "      <td>510000.0</td>\n",
       "      <td>3</td>\n",
       "      <td>2.00</td>\n",
       "      <td>1680</td>\n",
       "      <td>8080</td>\n",
       "      <td>1.0</td>\n",
       "      <td>0</td>\n",
       "      <td>0</td>\n",
       "      <td>...</td>\n",
       "      <td>2.0</td>\n",
       "      <td>3.0</td>\n",
       "      <td>4.3</td>\n",
       "      <td>4.3</td>\n",
       "      <td>3.3</td>\n",
       "      <td>3.7</td>\n",
       "      <td>2.7</td>\n",
       "      <td>4.0</td>\n",
       "      <td>4.3</td>\n",
       "      <td>2.7</td>\n",
       "    </tr>\n",
       "  </tbody>\n",
       "</table>\n",
       "<p>5 rows × 44 columns</p>\n",
       "</div>"
      ],
      "text/plain": [
       "           id        date     price  bedrooms  bathrooms  sqft_living  \\\n",
       "0  7129300520  2014-10-13  221900.0         3       1.00         1180   \n",
       "1  6414100192  2014-12-09  538000.0         3       2.25         2570   \n",
       "2  5631500400  2015-02-25  180000.0         2       1.00          770   \n",
       "3  2487200875  2014-12-09  604000.0         4       3.00         1960   \n",
       "4  1954400510  2015-02-18  510000.0         3       2.00         1680   \n",
       "\n",
       "   sqft_lot  floors  waterfront  view      ...        cost_of_living_score  \\\n",
       "0      5650     1.0           0     0      ...                         2.0   \n",
       "1      7242     2.0           0     0      ...                         1.7   \n",
       "2     10000     1.0           0     0      ...                         2.0   \n",
       "3      5000     1.0           0     0      ...                         2.0   \n",
       "4      8080     1.0           0     0      ...                         2.0   \n",
       "\n",
       "   diversity_score  good_for_families_score  health_fitness_score  \\\n",
       "0              4.3                      3.0                   4.0   \n",
       "1              4.0                      3.7                   4.3   \n",
       "2              3.7                      4.0                   4.3   \n",
       "3              3.3                      4.0                   4.0   \n",
       "4              3.0                      4.3                   4.3   \n",
       "\n",
       "   housing_score  jobs_score  nightlife_score  outdoor_activities_score  \\\n",
       "0            2.0         2.7              3.7                       4.0   \n",
       "1            2.0         2.7              4.0                       4.0   \n",
       "2            3.0         3.3              3.7                       4.0   \n",
       "3            2.7         3.3              3.0                       4.0   \n",
       "4            3.3         3.7              2.7                       4.0   \n",
       "\n",
       "   public_schools_score  weather_score  \n",
       "0                   3.0            3.0  \n",
       "1                   3.7            3.0  \n",
       "2                   4.3            3.0  \n",
       "3                   3.7            3.0  \n",
       "4                   4.3            2.7  \n",
       "\n",
       "[5 rows x 44 columns]"
      ]
     },
     "execution_count": 2,
     "metadata": {},
     "output_type": "execute_result"
    }
   ],
   "source": [
    "# Load data prepared in the earlier parts\n",
    "df = pd.read_csv('df_house_zipcode.csv',index_col=0)\n",
    "df.head()"
   ]
  },
  {
   "cell_type": "code",
   "execution_count": 3,
   "metadata": {
    "scrolled": false
   },
   "outputs": [
    {
     "data": {
      "text/plain": [
       "Index(['id', 'date', 'price', 'bedrooms', 'bathrooms', 'sqft_living',\n",
       "       'sqft_lot', 'floors', 'waterfront', 'view', 'condition', 'grade',\n",
       "       'sqft_above', 'sqft_basement', 'yr_built', 'yr_renovated', 'zipcode',\n",
       "       'lat', 'long', 'sqft_living15', 'sqft_lot15', 'sales_order',\n",
       "       'commute_grade', 'cost_of_living_grade', 'diversity_grade',\n",
       "       'good_for_families_grade', 'health_fitness_grade', 'housing_grade',\n",
       "       'jobs_grade', 'nightlife_grade', 'outdoor_activities_grade',\n",
       "       'public_schools_grade', 'weather_grade', 'commute_score',\n",
       "       'cost_of_living_score', 'diversity_score', 'good_for_families_score',\n",
       "       'health_fitness_score', 'housing_score', 'jobs_score',\n",
       "       'nightlife_score', 'outdoor_activities_score', 'public_schools_score',\n",
       "       'weather_score'],\n",
       "      dtype='object')"
      ]
     },
     "execution_count": 3,
     "metadata": {},
     "output_type": "execute_result"
    }
   ],
   "source": [
    "df.columns"
   ]
  },
  {
   "cell_type": "markdown",
   "metadata": {},
   "source": [
    "The data frame has 21597 observations and 44 columns."
   ]
  },
  {
   "cell_type": "markdown",
   "metadata": {},
   "source": [
    "### Make  new columns"
   ]
  },
  {
   "cell_type": "markdown",
   "metadata": {},
   "source": [
    "The column 'date' for sold dates will be removed, but 'sold_month' column will be extracted from it since hourse prices have seasonal fluctuation. Since this data set is only one year of data, year information will be ignored."
   ]
  },
  {
   "cell_type": "code",
   "execution_count": 4,
   "metadata": {},
   "outputs": [],
   "source": [
    "# Extract month from date column\n",
    "from calendar import month_name\n",
    "\n",
    "df.date = pd.to_datetime(df.date)\n",
    "df['sold_month'] = df.date.map(lambda x: month_name[x.month])"
   ]
  },
  {
   "cell_type": "code",
   "execution_count": 5,
   "metadata": {
    "scrolled": true
   },
   "outputs": [
    {
     "data": {
      "text/plain": [
       "array(['October', 'December', 'February', 'May', 'June', 'January',\n",
       "       'April', 'March', 'July', 'August', 'November', 'September'],\n",
       "      dtype=object)"
      ]
     },
     "execution_count": 5,
     "metadata": {},
     "output_type": "execute_result"
    }
   ],
   "source": [
    "df.sold_month.unique()"
   ]
  },
  {
   "cell_type": "markdown",
   "metadata": {},
   "source": [
    "The most of values of 'yr_renovated' (renovated years) were missing and I filled the missing values with built years before. I will remove the yr_renovated columns, but a new column 'renovated' will be added to show whether a house is renovated or not."
   ]
  },
  {
   "cell_type": "code",
   "execution_count": 6,
   "metadata": {},
   "outputs": [],
   "source": [
    "# 1 for renovated houses and 0 for else\n",
    "df['renovated'] = (df.yr_built != df.yr_renovated)*1"
   ]
  },
  {
   "cell_type": "markdown",
   "metadata": {},
   "source": [
    "A new column 'zip98039' will be generated to show whether a house is in zipcode 98039 or not. I found that houses in 98039 (Medina, WA) are significantly more expensive that houses not in 98039 in the inferential statistics part of this project. "
   ]
  },
  {
   "cell_type": "code",
   "execution_count": 7,
   "metadata": {},
   "outputs": [],
   "source": [
    "# 1 for houses in 98039 and 0 for else\n",
    "df['zip98039'] = (df.zipcode == 98039)*1"
   ]
  },
  {
   "cell_type": "markdown",
   "metadata": {},
   "source": [
    "### Remove unnecessary columns"
   ]
  },
  {
   "cell_type": "code",
   "execution_count": 8,
   "metadata": {},
   "outputs": [],
   "source": [
    "# Delete some columns from the dataframe\n",
    "df = df.drop(['id','date', 'yr_renovated', 'zipcode', \n",
    "              'commute_grade', 'cost_of_living_grade', 'diversity_grade',\n",
    "              'good_for_families_grade', 'health_fitness_grade', 'housing_grade',\n",
    "              'jobs_grade', 'nightlife_grade', 'outdoor_activities_grade',\n",
    "              'public_schools_grade', 'weather_grade'], axis=1)"
   ]
  },
  {
   "cell_type": "markdown",
   "metadata": {},
   "source": [
    "The above columns except for 'yr_renovated' are non numerical columns with too many levels, so I dropped them from the feature list of our models to be built. The columns ending with 'grade' were already transformed to numerical values and made as new columns ending with 'score' in the data wrangling part. "
   ]
  },
  {
   "cell_type": "code",
   "execution_count": 9,
   "metadata": {
    "scrolled": false
   },
   "outputs": [
    {
     "data": {
      "text/plain": [
       "Index(['price', 'bedrooms', 'bathrooms', 'sqft_living', 'sqft_lot', 'floors',\n",
       "       'waterfront', 'view', 'condition', 'grade', 'sqft_above',\n",
       "       'sqft_basement', 'yr_built', 'lat', 'long', 'sqft_living15',\n",
       "       'sqft_lot15', 'sales_order', 'commute_score', 'cost_of_living_score',\n",
       "       'diversity_score', 'good_for_families_score', 'health_fitness_score',\n",
       "       'housing_score', 'jobs_score', 'nightlife_score',\n",
       "       'outdoor_activities_score', 'public_schools_score', 'weather_score',\n",
       "       'sold_month', 'renovated', 'zip98039'],\n",
       "      dtype='object')"
      ]
     },
     "execution_count": 9,
     "metadata": {},
     "output_type": "execute_result"
    }
   ],
   "source": [
    "# columns left\n",
    "df.columns"
   ]
  },
  {
   "cell_type": "markdown",
   "metadata": {},
   "source": [
    "Now there are 42 columns left, 1 target and 41 features."
   ]
  },
  {
   "cell_type": "markdown",
   "metadata": {},
   "source": [
    "### One-hot encoding"
   ]
  },
  {
   "cell_type": "code",
   "execution_count": 10,
   "metadata": {
    "scrolled": false
   },
   "outputs": [
    {
     "data": {
      "text/html": [
       "<div>\n",
       "<style scoped>\n",
       "    .dataframe tbody tr th:only-of-type {\n",
       "        vertical-align: middle;\n",
       "    }\n",
       "\n",
       "    .dataframe tbody tr th {\n",
       "        vertical-align: top;\n",
       "    }\n",
       "\n",
       "    .dataframe thead th {\n",
       "        text-align: right;\n",
       "    }\n",
       "</style>\n",
       "<table border=\"1\" class=\"dataframe\">\n",
       "  <thead>\n",
       "    <tr style=\"text-align: right;\">\n",
       "      <th></th>\n",
       "      <th>price</th>\n",
       "      <th>bedrooms</th>\n",
       "      <th>bathrooms</th>\n",
       "      <th>sqft_living</th>\n",
       "      <th>sqft_lot</th>\n",
       "      <th>floors</th>\n",
       "      <th>waterfront</th>\n",
       "      <th>view</th>\n",
       "      <th>condition</th>\n",
       "      <th>grade</th>\n",
       "      <th>...</th>\n",
       "      <th>sold_month_December</th>\n",
       "      <th>sold_month_February</th>\n",
       "      <th>sold_month_January</th>\n",
       "      <th>sold_month_July</th>\n",
       "      <th>sold_month_June</th>\n",
       "      <th>sold_month_March</th>\n",
       "      <th>sold_month_May</th>\n",
       "      <th>sold_month_November</th>\n",
       "      <th>sold_month_October</th>\n",
       "      <th>sold_month_September</th>\n",
       "    </tr>\n",
       "  </thead>\n",
       "  <tbody>\n",
       "    <tr>\n",
       "      <th>0</th>\n",
       "      <td>221900.0</td>\n",
       "      <td>3</td>\n",
       "      <td>1.00</td>\n",
       "      <td>1180</td>\n",
       "      <td>5650</td>\n",
       "      <td>1.0</td>\n",
       "      <td>0</td>\n",
       "      <td>0</td>\n",
       "      <td>3</td>\n",
       "      <td>7</td>\n",
       "      <td>...</td>\n",
       "      <td>0</td>\n",
       "      <td>0</td>\n",
       "      <td>0</td>\n",
       "      <td>0</td>\n",
       "      <td>0</td>\n",
       "      <td>0</td>\n",
       "      <td>0</td>\n",
       "      <td>0</td>\n",
       "      <td>1</td>\n",
       "      <td>0</td>\n",
       "    </tr>\n",
       "    <tr>\n",
       "      <th>1</th>\n",
       "      <td>538000.0</td>\n",
       "      <td>3</td>\n",
       "      <td>2.25</td>\n",
       "      <td>2570</td>\n",
       "      <td>7242</td>\n",
       "      <td>2.0</td>\n",
       "      <td>0</td>\n",
       "      <td>0</td>\n",
       "      <td>3</td>\n",
       "      <td>7</td>\n",
       "      <td>...</td>\n",
       "      <td>1</td>\n",
       "      <td>0</td>\n",
       "      <td>0</td>\n",
       "      <td>0</td>\n",
       "      <td>0</td>\n",
       "      <td>0</td>\n",
       "      <td>0</td>\n",
       "      <td>0</td>\n",
       "      <td>0</td>\n",
       "      <td>0</td>\n",
       "    </tr>\n",
       "    <tr>\n",
       "      <th>2</th>\n",
       "      <td>180000.0</td>\n",
       "      <td>2</td>\n",
       "      <td>1.00</td>\n",
       "      <td>770</td>\n",
       "      <td>10000</td>\n",
       "      <td>1.0</td>\n",
       "      <td>0</td>\n",
       "      <td>0</td>\n",
       "      <td>3</td>\n",
       "      <td>6</td>\n",
       "      <td>...</td>\n",
       "      <td>0</td>\n",
       "      <td>1</td>\n",
       "      <td>0</td>\n",
       "      <td>0</td>\n",
       "      <td>0</td>\n",
       "      <td>0</td>\n",
       "      <td>0</td>\n",
       "      <td>0</td>\n",
       "      <td>0</td>\n",
       "      <td>0</td>\n",
       "    </tr>\n",
       "    <tr>\n",
       "      <th>3</th>\n",
       "      <td>604000.0</td>\n",
       "      <td>4</td>\n",
       "      <td>3.00</td>\n",
       "      <td>1960</td>\n",
       "      <td>5000</td>\n",
       "      <td>1.0</td>\n",
       "      <td>0</td>\n",
       "      <td>0</td>\n",
       "      <td>5</td>\n",
       "      <td>7</td>\n",
       "      <td>...</td>\n",
       "      <td>1</td>\n",
       "      <td>0</td>\n",
       "      <td>0</td>\n",
       "      <td>0</td>\n",
       "      <td>0</td>\n",
       "      <td>0</td>\n",
       "      <td>0</td>\n",
       "      <td>0</td>\n",
       "      <td>0</td>\n",
       "      <td>0</td>\n",
       "    </tr>\n",
       "    <tr>\n",
       "      <th>4</th>\n",
       "      <td>510000.0</td>\n",
       "      <td>3</td>\n",
       "      <td>2.00</td>\n",
       "      <td>1680</td>\n",
       "      <td>8080</td>\n",
       "      <td>1.0</td>\n",
       "      <td>0</td>\n",
       "      <td>0</td>\n",
       "      <td>3</td>\n",
       "      <td>8</td>\n",
       "      <td>...</td>\n",
       "      <td>0</td>\n",
       "      <td>1</td>\n",
       "      <td>0</td>\n",
       "      <td>0</td>\n",
       "      <td>0</td>\n",
       "      <td>0</td>\n",
       "      <td>0</td>\n",
       "      <td>0</td>\n",
       "      <td>0</td>\n",
       "      <td>0</td>\n",
       "    </tr>\n",
       "  </tbody>\n",
       "</table>\n",
       "<p>5 rows × 42 columns</p>\n",
       "</div>"
      ],
      "text/plain": [
       "      price  bedrooms  bathrooms  sqft_living  sqft_lot  floors  waterfront  \\\n",
       "0  221900.0         3       1.00         1180      5650     1.0           0   \n",
       "1  538000.0         3       2.25         2570      7242     2.0           0   \n",
       "2  180000.0         2       1.00          770     10000     1.0           0   \n",
       "3  604000.0         4       3.00         1960      5000     1.0           0   \n",
       "4  510000.0         3       2.00         1680      8080     1.0           0   \n",
       "\n",
       "   view  condition  grade          ...           sold_month_December  \\\n",
       "0     0          3      7          ...                             0   \n",
       "1     0          3      7          ...                             1   \n",
       "2     0          3      6          ...                             0   \n",
       "3     0          5      7          ...                             1   \n",
       "4     0          3      8          ...                             0   \n",
       "\n",
       "   sold_month_February  sold_month_January  sold_month_July  sold_month_June  \\\n",
       "0                    0                   0                0                0   \n",
       "1                    0                   0                0                0   \n",
       "2                    1                   0                0                0   \n",
       "3                    0                   0                0                0   \n",
       "4                    1                   0                0                0   \n",
       "\n",
       "   sold_month_March  sold_month_May  sold_month_November  sold_month_October  \\\n",
       "0                 0               0                    0                   1   \n",
       "1                 0               0                    0                   0   \n",
       "2                 0               0                    0                   0   \n",
       "3                 0               0                    0                   0   \n",
       "4                 0               0                    0                   0   \n",
       "\n",
       "   sold_month_September  \n",
       "0                     0  \n",
       "1                     0  \n",
       "2                     0  \n",
       "3                     0  \n",
       "4                     0  \n",
       "\n",
       "[5 rows x 42 columns]"
      ]
     },
     "execution_count": 10,
     "metadata": {},
     "output_type": "execute_result"
    }
   ],
   "source": [
    "# one-hot encoding for categorical columns\n",
    "df = pd.get_dummies(df, drop_first=True) # April column was dropped\n",
    "df.head()"
   ]
  },
  {
   "cell_type": "markdown",
   "metadata": {},
   "source": [
    "The categorical column 'sold_month' was transformed to 11 columns by one-hot encoding. The column for April was dropped using the argument 'drop_first=True' to avoid multicolinearity."
   ]
  },
  {
   "cell_type": "markdown",
   "metadata": {},
   "source": [
    "### Split training-test sets"
   ]
  },
  {
   "cell_type": "code",
   "execution_count": 11,
   "metadata": {},
   "outputs": [],
   "source": [
    "# Predictors X and target y\n",
    "y = df.price.values\n",
    "X = df.drop('price', axis=1).values"
   ]
  },
  {
   "cell_type": "code",
   "execution_count": 12,
   "metadata": {},
   "outputs": [
    {
     "data": {
      "text/plain": [
       "21597"
      ]
     },
     "execution_count": 12,
     "metadata": {},
     "output_type": "execute_result"
    }
   ],
   "source": [
    "# check the size of y\n",
    "len(y)"
   ]
  },
  {
   "cell_type": "code",
   "execution_count": 13,
   "metadata": {},
   "outputs": [
    {
     "data": {
      "text/plain": [
       "(21597, 41)"
      ]
     },
     "execution_count": 13,
     "metadata": {},
     "output_type": "execute_result"
    }
   ],
   "source": [
    "# check the size of X\n",
    "len(X), len(X[0])"
   ]
  },
  {
   "cell_type": "code",
   "execution_count": 14,
   "metadata": {},
   "outputs": [],
   "source": [
    "# Split training and test sets\n",
    "from sklearn.model_selection import train_test_split\n",
    "X_train, X_test, y_train, y_test = train_test_split(X,y, test_size=.2, random_state=42)"
   ]
  },
  {
   "cell_type": "markdown",
   "metadata": {},
   "source": [
    "20% of rows were saved for testing and 80% left will be used for training."
   ]
  },
  {
   "cell_type": "code",
   "execution_count": 15,
   "metadata": {},
   "outputs": [],
   "source": [
    "# Make function that print the tuned parameters and score\n",
    "def print_results(cv):\n",
    "    print(\"Best Hyper-parameters found: {}\".format(cv.best_params_)) \n",
    "    print(\"Best RMSE score on development set: {:.0f}\".format(np.sqrt(-cv.best_score_)))\n",
    "    print(\"Best RMSE score on development set: {:.0f}\".format(np.sqrt(-cv.best_score_)))\n",
    "    RMSE = np.sqrt(-cv.score(X_test, y_test))\n",
    "    print(\"\\nRMSE on test set: {:.0f}\".format(RMSE))\n",
    "    r_squared = r2_score(y_test,cv.predict(X_test))\n",
    "    print(\"R^2 on test set: {:.4f}\".format(r_squared))"
   ]
  },
  {
   "cell_type": "markdown",
   "metadata": {},
   "source": [
    "- The negative mean squared error built in GridSearchCV will be used for scoring and optimizing hyper-parmeter values. However, I will report the root mean squared error (RMSE), just square root of mean squared error, since the number in dollars makes more sense.  \n",
    "- The r-squared score for the test set was added just to feel how much variability in house prices is explained by a model.\n",
    "- Note that RMSE on the deveopment set is a square root of averaged MSE over n folds (n=5 typically). I think this is a fine method since the calculation is like getting the average of squared errors over all data and then taking a square root. The other method can be getting RMSE from each fold and averaging them (this will be smaller), but I do not think this is a right method. I realized RMSE is tricky and picky in theses situations unlike MAE. You will see a similar and more serious problem in my dicussion on the result printing function for Neural Network, print_result_NN, where smaller batches complicates this matter."
   ]
  },
  {
   "cell_type": "code",
   "execution_count": 581,
   "metadata": {},
   "outputs": [
    {
     "name": "stdout",
     "output_type": "stream",
     "text": [
      "first method: 3.8944\n",
      "second method: 3.6132\n",
      "without folds: 3.8944\n"
     ]
    }
   ],
   "source": [
    "# This is an example to my last note above.\n",
    "# Let's say there are errors 1,2,3 in the first fold and  4,5,6 in the second fold\n",
    "print(\"first method: {:.4f}\".format(np.sqrt(((1+4+9)/3+(16+25+36)/3)/2)))\n",
    "print(\"second method: {:.4f}\".format((np.sqrt((1+4+9)/3)+np.sqrt((16+25+36)/3))/2))\n",
    "print(\"without folds: {:.4f}\".format(np.sqrt(((1+4+9+16+25+36)/6))))"
   ]
  },
  {
   "cell_type": "code",
   "execution_count": 16,
   "metadata": {},
   "outputs": [],
   "source": [
    "# Adjusted R-squared \n",
    "#def adj_r2_score(model,X, y):\n",
    "#    n_obs = len(X)\n",
    "#    n_features = len(X[0])\n",
    "#    r2 = r2_score(y, model.predict(X))\n",
    "#    adj_r2 = 1-(1-r2)*(n_obs-1)/(n_obs-n_features-1)\n",
    "#    print(\"Adjusted R^2 on test set: {:.4f}\".format(adj_r2))"
   ]
  },
  {
   "cell_type": "markdown",
   "metadata": {},
   "source": [
    "<a id= 'Section2'></a>\n",
    "\n",
    "## 2. Ridge Regression (Linear Regression)"
   ]
  },
  {
   "cell_type": "code",
   "execution_count": 133,
   "metadata": {
    "scrolled": true
   },
   "outputs": [],
   "source": [
    "# Check assumptions of linear regression\n",
    "from statsmodels.formula.api import ols\n",
    "\n",
    "predictor_list = df.columns[1:] \n",
    "predictors='+'.join(predictor_list)\n",
    "m = ols('price ~'+ predictors,df).fit()\n",
    "#print(m.summary())"
   ]
  },
  {
   "cell_type": "markdown",
   "metadata": {},
   "source": [
    "In the inferential statistics part of this project and in the right above cell using statsmodels package, I found many features are highly correlated (multicolinearty) and there are heteroscedasticity. These violate two of the assumptions for the linear regression model. However, a liner regression model is just a baseline model to be compared with the other complex models of my interest and I will not rely on any statistical significance in its result. Mutlicolinearity could be problematic for even other machine learning models especially when intepreting feature importances. I will interprete them with caution."
   ]
  },
  {
   "cell_type": "code",
   "execution_count": 582,
   "metadata": {},
   "outputs": [],
   "source": [
    "from sklearn.linear_model import Ridge\n",
    "from sklearn.linear_model import LinearRegression"
   ]
  },
  {
   "cell_type": "code",
   "execution_count": 18,
   "metadata": {
    "scrolled": false
   },
   "outputs": [
    {
     "name": "stdout",
     "output_type": "stream",
     "text": [
      "Best Hyper-parameters found: {'lr__alpha': 0.001}\n",
      "Best RMSE score on development set: 178083\n",
      "\n",
      "RMSE on test set: 180471\n",
      "R^2 on test set: 0.7496\n"
     ]
    }
   ],
   "source": [
    "# Ridge Regression tuning alpha\n",
    "steps = [('lr', Ridge(normalize=True, random_state=42, solver='auto'))] #normalize=True for scaling\n",
    "pl = Pipeline(steps) \n",
    "param_grid = {'lr__alpha':[.001,.01,.1,1]}\n",
    "cv = GridSearchCV(pl, param_grid, cv=5, scoring='neg_mean_squared_error')\n",
    "cv.fit(X_train,y_train)\n",
    "\n",
    "print_results(cv)"
   ]
  },
  {
   "cell_type": "markdown",
   "metadata": {},
   "source": [
    "First, I tried Ridge regression with feature scaling (normalize=True). Scaling is necessary for Ridge regression since the regularization term in its cost function uses feature weights. I found very small regularization (small alpha) is required and this could be because the linear model is too simple and underfitting our data. Let's try the pure linear regression without any regularization to check if it is even better."
   ]
  },
  {
   "cell_type": "code",
   "execution_count": 156,
   "metadata": {
    "scrolled": true
   },
   "outputs": [
    {
     "name": "stdout",
     "output_type": "stream",
     "text": [
      "Best Hyper-parameters found: {}\n",
      "Best RMSE score on development set: 178080\n",
      "\n",
      "RMSE on test set: 180464\n",
      "R^2 on test set: 0.7497\n",
      "Wall time: 507 ms\n"
     ]
    }
   ],
   "source": [
    "%%time\n",
    "# Linear Regression\n",
    "lr = LinearRegression(normalize=True, n_jobs=-1)\n",
    "param_grid = {}\n",
    "cv = GridSearchCV(lr, param_grid, cv=5, scoring='neg_mean_squared_error')\n",
    "cv.fit(X_train,y_train)\n",
    "\n",
    "print_results(cv)"
   ]
  },
  {
   "cell_type": "markdown",
   "metadata": {},
   "source": [
    "Linear regression gives a slightly better result than Ridge regression. This means we need a more complex model that can reduce bias and capture more variance. "
   ]
  },
  {
   "cell_type": "markdown",
   "metadata": {},
   "source": [
    "<a id= 'Section3'></a>\n",
    "\n",
    "## 3. Random Forest"
   ]
  },
  {
   "cell_type": "markdown",
   "metadata": {},
   "source": []
  },
  {
   "cell_type": "code",
   "execution_count": 20,
   "metadata": {},
   "outputs": [],
   "source": [
    "from sklearn.ensemble import RandomForestRegressor"
   ]
  },
  {
   "cell_type": "code",
   "execution_count": 106,
   "metadata": {
    "scrolled": true
   },
   "outputs": [
    {
     "name": "stdout",
     "output_type": "stream",
     "text": [
      "Best Hyper-parameters found: {'max_depth': None, 'max_features': 'auto', 'min_samples_leaf': 1, 'min_samples_split': 2}\n",
      "Best RMSE score on development set: 131775\n",
      "\n",
      "RMSE on test set: 125872\n",
      "R^2 on test set: 0.8782\n",
      "Wall time: 1h 29min 2s\n"
     ]
    }
   ],
   "source": [
    "%%time\n",
    "# Tuning hyperparameters\n",
    "rf = RandomForestRegressor(random_state=42, n_jobs=-1,n_estimators=1000)\n",
    "param_grid = {'max_features':['auto','sqrt'],\n",
    "             'max_depth':[None, 80, 100, 120], # also tried 'max_depth':[None,10,20,50],\n",
    "             'min_samples_leaf': [1, 2, 3],\n",
    "             'min_samples_split': [2, 3, 4]}\n",
    "cv = GridSearchCV(rf, param_grid, cv=5, scoring='neg_mean_squared_error')\n",
    "cv.fit(X_train,y_train)\n",
    "\n",
    "print_results(cv)"
   ]
  },
  {
   "cell_type": "markdown",
   "metadata": {},
   "source": [
    "I found all the default values for the hyperparameters are actually the best and this means no regularization for Random Forest  is necessary for my data."
   ]
  },
  {
   "cell_type": "code",
   "execution_count": 120,
   "metadata": {
    "scrolled": true
   },
   "outputs": [
    {
     "name": "stdout",
     "output_type": "stream",
     "text": [
      "Best Hyper-parameters found: {}\n",
      "Best RMSE score on development set: 131762\n",
      "\n",
      "RMSE on test set: 125902\n",
      "R^2 on test set: 0.8782\n"
     ]
    }
   ],
   "source": [
    "# with feature scaling\n",
    "rf = RandomForestRegressor(random_state=42, n_jobs=-1,n_estimators=1000)\n",
    "steps = [('scale',StandardScaler()), ('rf', rf)] #\n",
    "pl = Pipeline(steps)\n",
    "param_grid = {} # found default values are the best above\n",
    "cv = GridSearchCV(pl, param_grid, cv=5, scoring='neg_mean_squared_error')\n",
    "cv.fit(X_train,y_train)\n",
    "\n",
    "print_results(cv)"
   ]
  },
  {
   "cell_type": "markdown",
   "metadata": {},
   "source": [
    "Feature scaling is usually unnessary for tree-based ensemble methods, but I checked if it helps (since sometimes it does). I found scaling did not improve the performance."
   ]
  },
  {
   "cell_type": "markdown",
   "metadata": {},
   "source": [
    "#### Best RF model found"
   ]
  },
  {
   "cell_type": "code",
   "execution_count": 155,
   "metadata": {
    "scrolled": false
   },
   "outputs": [
    {
     "name": "stdout",
     "output_type": "stream",
     "text": [
      "Best Hyper-parameters found: {}\n",
      "Best RMSE score on development set: 131775\n",
      "\n",
      "RMSE on test set: 125872\n",
      "R^2 on test set: 0.8782\n",
      "Wall time: 2min 44s\n"
     ]
    }
   ],
   "source": [
    "%%time\n",
    "# Best model for Random Forest \n",
    "rf = RandomForestRegressor(random_state=42, n_jobs=-1,n_estimators=1000)  \n",
    "param_grid = {}\n",
    "cv = GridSearchCV(rf, param_grid, cv=5, scoring='neg_mean_squared_error')\n",
    "cv.fit(X_train,y_train)\n",
    "\n",
    "print_results(cv)"
   ]
  },
  {
   "cell_type": "markdown",
   "metadata": {},
   "source": [
    "- This is the best Random Forest (RF) model found above. Feature scaling is removed since I found it does not help. The hyperparameter for the numbmer of estimators, n_estimators=500, was also tested, but I found 1000 is better.\n",
    "- The result shows no regularization for Random Forest was necessary. It used all features (max_features=auto) and as many as depth of tree needed (max_depth=None) and it could keep splitting data without restriction (min_samples_leaf=1 and min_samples_split=2). \n",
    "- The root mean squared error (RMSE) on the test set is reduced to 125872 from 180464, RMSE of the Linear regression model. This is a huge (43%) improvement !! \n",
    "- The R-squared score on the test set shows 87.82% of variability in the data is explained by this RF model.\n",
    "- It took 2min 44sec to run the final model."
   ]
  },
  {
   "cell_type": "code",
   "execution_count": 143,
   "metadata": {
    "scrolled": true
   },
   "outputs": [],
   "source": [
    "# Save the trained model \n",
    "rf_trained = cv\n",
    "file_name='rf_trained.sav'\n",
    "pickle.dump(rf_trained, open(file_name,'wb'))\n",
    "# Load the trained model from file (for later)\n",
    "#rf_trained = pickle.load(open('rf_trained.sav','rb'))"
   ]
  },
  {
   "cell_type": "markdown",
   "metadata": {},
   "source": [
    "<a id= 'Section4'></a>\n",
    "\n",
    "## 4. XGBoost"
   ]
  },
  {
   "cell_type": "markdown",
   "metadata": {},
   "source": []
  },
  {
   "cell_type": "code",
   "execution_count": 22,
   "metadata": {},
   "outputs": [],
   "source": [
    "import xgboost\n",
    "from xgboost.sklearn import XGBRegressor"
   ]
  },
  {
   "cell_type": "code",
   "execution_count": 428,
   "metadata": {
    "scrolled": false
   },
   "outputs": [
    {
     "name": "stdout",
     "output_type": "stream",
     "text": [
      "Best Hyper-parameters found: {'colsample_bytree': 0.7, 'eta': 0.001, 'max_depth': 7, 'subsample': 1}\n",
      "Best RMSE score on development set: 119980\n",
      "\n",
      "RMSE on test set: 121299\n",
      "R^2 on test set: 0.8869\n"
     ]
    }
   ],
   "source": [
    "# Tuning hypterparameters\n",
    "xgb = XGBRegressor(random_state=42, n_jobs=-1) #n_estimators=100 by default\n",
    "param_grid = {'eta':[.001],'max_depth':[6,7,8], 'subsample':[.9,1], \n",
    "              'colsample_bytree':[.6,.7,.8,.9]}\n",
    "cv = GridSearchCV(xgb, param_grid, cv=5, scoring='neg_mean_squared_error')\n",
    "cv.fit(X_train,y_train)\n",
    "\n",
    "print_results(cv)"
   ]
  },
  {
   "cell_type": "markdown",
   "metadata": {},
   "source": [
    "It takes a while to narrow down the ranges fo hyperparameters this much and this tuning process of XBBoost was much more difficult than RF! I was somewhat lost until I realized that the regularization parameters lambda and alpha are not used in the default gbtree booster I'm using. I will further tune hyperparameters and increase n_estimators."
   ]
  },
  {
   "cell_type": "code",
   "execution_count": 429,
   "metadata": {},
   "outputs": [
    {
     "name": "stdout",
     "output_type": "stream",
     "text": [
      "Best Hyper-parameters found: {'colsample_bytree': 0.7, 'eta': 0.001, 'max_depth': 7, 'subsample': 1}\n",
      "Best RMSE score on development set: 118284\n",
      "\n",
      "RMSE on test set: 118520\n",
      "R^2 on test set: 0.8920\n"
     ]
    }
   ],
   "source": [
    "# Increased n_estimator (500) with best parameters found so far\n",
    "xgb = XGBRegressor(random_state=42, n_jobs=-1, n_estimators=500)\n",
    "param_grid = {'eta':[.001],'max_depth':[7], 'subsample':[1], 'colsample_bytree':[.7]}\n",
    "cv = GridSearchCV(xgb, param_grid, cv=5, scoring='neg_mean_squared_error')\n",
    "cv.fit(X_train,y_train)\n",
    "\n",
    "print_results(cv)"
   ]
  },
  {
   "cell_type": "code",
   "execution_count": 121,
   "metadata": {
    "scrolled": false
   },
   "outputs": [
    {
     "name": "stdout",
     "output_type": "stream",
     "text": [
      "Best Hyper-parameters found: {'colsample_bytree': 0.7, 'eta': 0.001, 'max_depth': 7, 'subsample': 1}\n",
      "Best RMSE score on development set: 118284\n",
      "\n",
      "RMSE on test set: 118796\n",
      "R^2 on test set: 0.8915\n"
     ]
    }
   ],
   "source": [
    "# Increased n_estimator (1000) with best parameters found so far\n",
    "xgb = XGBRegressor(random_state=42, n_jobs=-1, n_estimators=1000)\n",
    "param_grid = {'eta':[.001],'max_depth':[7], 'subsample':[1], 'colsample_bytree':[.7]}\n",
    "cv = GridSearchCV(xgb, param_grid, cv=5, scoring='neg_mean_squared_error')\n",
    "cv.fit(X_train,y_train)\n",
    "\n",
    "print_results(cv)"
   ]
  },
  {
   "cell_type": "code",
   "execution_count": 146,
   "metadata": {},
   "outputs": [
    {
     "data": {
      "text/plain": [
       "2.2910329021673714"
      ]
     },
     "execution_count": 146,
     "metadata": {},
     "output_type": "execute_result"
    }
   ],
   "source": [
    "# improvement on RMSE after doubling n_estimator\n",
    "(121299-118520)/121299*100"
   ]
  },
  {
   "cell_type": "markdown",
   "metadata": {},
   "source": [
    "Increasing the number estimators to 500 from 100 improved the performance a little (2.29%), but increasin it to 1000 didn't help. I will tune the number of estimators below."
   ]
  },
  {
   "cell_type": "code",
   "execution_count": 122,
   "metadata": {
    "scrolled": true
   },
   "outputs": [
    {
     "name": "stdout",
     "output_type": "stream",
     "text": [
      "Best Hyper-parameters found: {'colsample_bytree': 0.7, 'eta': 0.001, 'max_depth': 7, 'n_estimators': 800, 'subsample': 1}\n",
      "Best RMSE score on development set: 118266\n",
      "\n",
      "RMSE on test set: 118782\n",
      "R^2 on test set: 0.8915\n"
     ]
    }
   ],
   "source": [
    "# tuining n_estimator with best parameters found\n",
    "xgb = XGBRegressor(random_state=42, n_jobs=-1)\n",
    "param_grid = {'eta':[.001],'max_depth':[7], 'subsample':[1], 'colsample_bytree':[.7],\n",
    "             'n_estimators':[500,600,700,800,900]}\n",
    "cv = GridSearchCV(xgb, param_grid, cv=5, scoring='neg_mean_squared_error')\n",
    "cv.fit(X_train,y_train)\n",
    "\n",
    "print_results(cv)"
   ]
  },
  {
   "cell_type": "markdown",
   "metadata": {},
   "source": [
    "I found that 800 is the best number of estimators. Now I will try feature scaling."
   ]
  },
  {
   "cell_type": "markdown",
   "metadata": {},
   "source": [
    "#### With feature scaling"
   ]
  },
  {
   "cell_type": "code",
   "execution_count": 138,
   "metadata": {
    "scrolled": true
   },
   "outputs": [
    {
     "name": "stdout",
     "output_type": "stream",
     "text": [
      "Best Hyper-parameters found: {'xgb__colsample_bytree': 0.7, 'xgb__eta': 0.001, 'xgb__max_depth': 6, 'xgb__n_estimators': 800, 'xgb__subsample': 1}\n",
      "Best RMSE score on development set: 117382\n",
      "\n",
      "RMSE on test set: 119559\n",
      "R^2 on test set: 0.8901\n"
     ]
    }
   ],
   "source": [
    "# More tuning with feature scaling\n",
    "xgb = XGBRegressor(random_state=42, n_jobs=-1)\n",
    "steps = [('scale',StandardScaler()), ('xgb', xgb)] \n",
    "pl = Pipeline(steps)\n",
    "param_grid = {'xgb__eta':[.001],'xgb__max_depth':[6,7,8],\n",
    "              'xgb__subsample':[.9,1], 'xgb__colsample_bytree':[.7,.8,.9],\n",
    "              'xgb__n_estimators':[800,900,1000]}\n",
    "cv = GridSearchCV(pl, param_grid, cv=5, scoring='neg_mean_squared_error')\n",
    "cv.fit(X_train,y_train)\n",
    "\n",
    "print_results(cv)"
   ]
  },
  {
   "cell_type": "code",
   "execution_count": 160,
   "metadata": {},
   "outputs": [
    {
     "name": "stdout",
     "output_type": "stream",
     "text": [
      "Best Hyper-parameters found: {'xgb__colsample_bytree': 0.8, 'xgb__eta': 0.001, 'xgb__max_depth': 5, 'xgb__n_estimators': 900, 'xgb__subsample': 1}\n",
      "Best RMSE score on development set: 116953\n",
      "\n",
      "RMSE on test set: 117300\n",
      "R^2 on test set: 0.8942\n"
     ]
    }
   ],
   "source": [
    "# More tuning with feature scaling\n",
    "xgb = XGBRegressor(random_state=42, n_jobs=-1)\n",
    "steps = [('scale',StandardScaler()), ('xgb', xgb)] #\n",
    "pl = Pipeline(steps)\n",
    "param_grid = {'xgb__eta':[.001],'xgb__max_depth':[5,6,7],\n",
    "              'xgb__subsample':[.9,1], 'xgb__colsample_bytree':[.6,.7,.8],\n",
    "              'xgb__n_estimators':[700,800,900]}\n",
    "cv = GridSearchCV(pl, param_grid, cv=5, scoring='neg_mean_squared_error')\n",
    "cv.fit(X_train,y_train)\n",
    "\n",
    "print_results(cv)"
   ]
  },
  {
   "cell_type": "code",
   "execution_count": 163,
   "metadata": {
    "scrolled": false
   },
   "outputs": [
    {
     "name": "stdout",
     "output_type": "stream",
     "text": [
      "Best Hyper-parameters found: {'xgb__colsample_bytree': 0.8, 'xgb__eta': 0.001, 'xgb__max_depth': 5, 'xgb__n_estimators': 900, 'xgb__subsample': 1}\n",
      "Best RMSE score on development set: 116953\n",
      "\n",
      "RMSE on test set: 117300\n",
      "R^2 on test set: 0.8942\n"
     ]
    }
   ],
   "source": [
    "# More tuning with feature scaling\n",
    "xgb = XGBRegressor(random_state=42, n_jobs=-1)\n",
    "steps = [('scale',StandardScaler()), ('xgb', xgb)] #\n",
    "pl = Pipeline(steps)\n",
    "param_grid = {'xgb__eta':[.001],'xgb__max_depth':[4,5,6,7],\n",
    "              'xgb__subsample':[1], 'xgb__colsample_bytree':[.6,.7,.8,.9],\n",
    "              'xgb__n_estimators':[900,1000]}\n",
    "cv = GridSearchCV(pl, param_grid, cv=5, scoring='neg_mean_squared_error')\n",
    "cv.fit(X_train,y_train)\n",
    "\n",
    "print_results(cv)"
   ]
  },
  {
   "cell_type": "code",
   "execution_count": 179,
   "metadata": {},
   "outputs": [
    {
     "name": "stdout",
     "output_type": "stream",
     "text": [
      "1.25 %\n"
     ]
    }
   ],
   "source": [
    "# RMSE improvement by feature scaling\n",
    "print(round((118782-117300)/118782*100, 2),'%')"
   ]
  },
  {
   "cell_type": "markdown",
   "metadata": {},
   "source": [
    "Before this last hyperparamter tuning, I tried many other hypterparameter values including lower n_estimators and lower subsample, but this last one shows the tuning result the best. Feature scaling is again unnessary for tree-based ensemble methods, but I checked again with hyperparameter tuning and found scaling actually improved the performance slightly (1.25% drop in RMSE)."
   ]
  },
  {
   "cell_type": "markdown",
   "metadata": {},
   "source": [
    "#### Best XGBoost model found"
   ]
  },
  {
   "cell_type": "code",
   "execution_count": 165,
   "metadata": {},
   "outputs": [
    {
     "name": "stdout",
     "output_type": "stream",
     "text": [
      "Best Hyper-parameters found: {'xgb__colsample_bytree': 0.8, 'xgb__eta': 0.001, 'xgb__max_depth': 5, 'xgb__n_estimators': 900, 'xgb__subsample': 1}\n",
      "Best RMSE score on development set: 116953\n",
      "\n",
      "RMSE on test set: 117300\n",
      "R^2 on test set: 0.8942\n",
      "Wall time: 43.4 s\n"
     ]
    }
   ],
   "source": [
    "%%time\n",
    "# Best model for XGBoost\n",
    "xgb = XGBRegressor(random_state=42, n_jobs=-1)\n",
    "steps = [('scale',StandardScaler()), ('xgb', xgb)] #\n",
    "pl = Pipeline(steps)\n",
    "param_grid = {'xgb__eta':[.001],'xgb__max_depth':[5],\n",
    "              'xgb__subsample':[1], 'xgb__colsample_bytree':[.8],\n",
    "              'xgb__n_estimators':[900]}\n",
    "cv = GridSearchCV(pl, param_grid, cv=5, scoring='neg_mean_squared_error')\n",
    "cv.fit(X_train,y_train)\n",
    "\n",
    "print_results(cv)"
   ]
  },
  {
   "cell_type": "code",
   "execution_count": 166,
   "metadata": {},
   "outputs": [
    {
     "data": {
      "text/plain": [
       "6.810092792678277"
      ]
     },
     "execution_count": 166,
     "metadata": {},
     "output_type": "execute_result"
    }
   ],
   "source": [
    "# RMSE improvement from Random Forest\n",
    "(125872-117300)/125872*100"
   ]
  },
  {
   "cell_type": "markdown",
   "metadata": {},
   "source": [
    "- XGBoost showed the better performance than Random Forest!!! The root mean squared error (RMSE) of the best XGBoost model on the test set is 117300, which corresponds to 6.81% improvement from RMSE of the best Random Forest model, 125872.\n",
    "- The R-squared score on the test set shows 89.15% of variability in the data is explained by this best XGBoost model.\n",
    "\n",
    "- It took 43.4 seconds to run the final model. This is so much faster than Random Forest (2min 44sec)! However, hyperparameter tuning for XGBoost was much more challenging and took more time."
   ]
  },
  {
   "cell_type": "code",
   "execution_count": 167,
   "metadata": {},
   "outputs": [],
   "source": [
    "# Save the trained model \n",
    "xgb_trained = cv\n",
    "file_name='xgb_trained.sav'\n",
    "pickle.dump(xgb_trained, open(file_name,'wb'))\n",
    "#xgb_trained = pickle.loads(open(file_name,'rb'))"
   ]
  },
  {
   "cell_type": "markdown",
   "metadata": {},
   "source": [
    "<a id= 'Section5'></a>\n",
    "\n",
    "## 5. LightGBM"
   ]
  },
  {
   "cell_type": "markdown",
   "metadata": {},
   "source": []
  },
  {
   "cell_type": "code",
   "execution_count": 129,
   "metadata": {},
   "outputs": [],
   "source": [
    "import lightgbm as lgb"
   ]
  },
  {
   "cell_type": "code",
   "execution_count": 399,
   "metadata": {},
   "outputs": [],
   "source": [
    "#d_train = lightgbm.Dataset(X_train, label=y_train)"
   ]
  },
  {
   "cell_type": "code",
   "execution_count": 402,
   "metadata": {
    "scrolled": false
   },
   "outputs": [
    {
     "name": "stdout",
     "output_type": "stream",
     "text": [
      "Best Hyper-parameters found: {'bagging_fraction': 0.9, 'feature_fraction': 0.5, 'max_depth': 12, 'num_leaves': 150}\n",
      "Best RMSE score on development set: 122594\n",
      "\n",
      "RMSE on test set: 122762\n",
      "R^2 on test set: 0.8842\n"
     ]
    }
   ],
   "source": [
    "# Tuning hyperparameters n_estimators=500\n",
    "lgbm = lgb.LGBMRegressor(boosting_type=\"gbdt\",random_state=42, \n",
    "                         bagging_freq=15, learning_rate=0.01,\n",
    "                         n_estimators=500) # alias of num_iterations\n",
    "param_grid = {'max_depth':[10,11,12],'num_leaves':[125,150,200], \n",
    "              'feature_fraction':[.4,.5,.6],'bagging_fraction':[.8,.9,1.] }\n",
    "cv = GridSearchCV(lgbm, param_grid, cv=5, scoring='neg_mean_squared_error')\n",
    "cv.fit(X_train, y_train)\n",
    "\n",
    "print_results(cv)"
   ]
  },
  {
   "cell_type": "markdown",
   "metadata": {},
   "source": [
    "I tried a lot of more hyperparameter values (coarse to finer) and found this is one of the best finer combinations of hyperparameters with n_etimators=500. However, I found increasing n_esimators to 1000 makes the prediction better (see below)."
   ]
  },
  {
   "cell_type": "code",
   "execution_count": 153,
   "metadata": {
    "scrolled": true
   },
   "outputs": [
    {
     "name": "stdout",
     "output_type": "stream",
     "text": [
      "Best Hyper-parameters found: {'bagging_fraction': 0.9, 'feature_fraction': 0.5, 'max_depth': 15, 'num_leaves': 160}\n",
      "Best RMSE score on development set: 120492\n",
      "\n",
      "RMSE on test set: 120506\n",
      "R^2 on test set: 0.8884\n"
     ]
    }
   ],
   "source": [
    "# Finer tuning with n_estimators=1000\n",
    "lgbm = lgb.LGBMRegressor(boosting_type=\"gbdt\",random_state=42, \n",
    "                         bagging_freq=15, learning_rate=0.01,\n",
    "                         n_estimators=1000) # alias of num_iterations\n",
    "param_grid = {'max_depth':[13,14,15],'num_leaves':[150,160,170], \n",
    "              'feature_fraction':[.5],'bagging_fraction':[.9] }\n",
    "cv = GridSearchCV(lgbm, param_grid, cv=5, scoring='neg_mean_squared_error')\n",
    "cv.fit(X_train, y_train)\n",
    "\n",
    "print_results(cv)"
   ]
  },
  {
   "cell_type": "code",
   "execution_count": 157,
   "metadata": {
    "scrolled": false
   },
   "outputs": [
    {
     "name": "stdout",
     "output_type": "stream",
     "text": [
      "Best Hyper-parameters found: {'bagging_fraction': 1.0, 'feature_fraction': 0.5, 'max_depth': 16, 'num_leaves': 180}\n",
      "Best RMSE score on development set: 120333\n",
      "\n",
      "RMSE on test set: 121738\n",
      "R^2 on test set: 0.8861\n"
     ]
    }
   ],
   "source": [
    "# more tuning with n_estimators=1000\n",
    "lgbm = lgb.LGBMRegressor(boosting_type=\"gbdt\",random_state=42, \n",
    "                         bagging_freq=15, learning_rate=0.01,\n",
    "                         n_estimators=1000) # alias of num_iterations\n",
    "param_grid = {'max_depth':[13,14,15,16],'num_leaves':[150,160,170,180], \n",
    "              'feature_fraction':[.4,.5,.6],'bagging_fraction':[.9,1.] }\n",
    "cv = GridSearchCV(lgbm, param_grid, cv=5, scoring='neg_mean_squared_error')\n",
    "cv.fit(X_train, y_train)\n",
    "\n",
    "print_results(cv)"
   ]
  },
  {
   "cell_type": "markdown",
   "metadata": {},
   "source": [
    "I found overfitting with the high max_depth (16) and high number of leaves (180), so went back to lower values to find the better hyperparmeter values (see below)."
   ]
  },
  {
   "cell_type": "code",
   "execution_count": 159,
   "metadata": {},
   "outputs": [
    {
     "name": "stdout",
     "output_type": "stream",
     "text": [
      "Best Hyper-parameters found: {'bagging_fraction': 0.9, 'feature_fraction': 0.5, 'max_depth': 15, 'num_leaves': 160}\n",
      "Best RMSE score on development set: 120492\n",
      "\n",
      "RMSE on test set: 120506\n",
      "R^2 on test set: 0.8884\n"
     ]
    }
   ],
   "source": [
    "# Best so far\n",
    "lgbm = lgb.LGBMRegressor(boosting_type=\"gbdt\",random_state=42, \n",
    "                         bagging_freq=15, learning_rate=0.01,\n",
    "                         n_estimators=1000) # alias of num_iterations\n",
    "param_grid = {'max_depth':[15],'num_leaves':[160], \n",
    "              'feature_fraction':[.5],'bagging_fraction':[.9] }\n",
    "cv = GridSearchCV(lgbm, param_grid, cv=5, scoring='neg_mean_squared_error')\n",
    "cv.fit(X_train, y_train)\n",
    "\n",
    "print_results(cv)"
   ]
  },
  {
   "cell_type": "markdown",
   "metadata": {},
   "source": [
    "This is the best output without feature scaling. I found 'gbdt' (Gradient Boosting Decision Tree) works better than 'rf' (Random Forest) for boosting type."
   ]
  },
  {
   "cell_type": "markdown",
   "metadata": {},
   "source": [
    "#### With feature scaling"
   ]
  },
  {
   "cell_type": "code",
   "execution_count": 162,
   "metadata": {
    "scrolled": true
   },
   "outputs": [
    {
     "name": "stdout",
     "output_type": "stream",
     "text": [
      "Best Hyper-parameters found: {'bagging_fraction': 0.9, 'feature_fraction': 0.5, 'max_depth': 16, 'num_leaves': 75}\n",
      "Best RMSE score on development set: 120218\n",
      "\n",
      "RMSE on test set: 120538\n",
      "R^2 on test set: 0.8883\n"
     ]
    }
   ],
   "source": [
    "# more tuning with lower number of leaves\n",
    "lgbm = lgb.LGBMRegressor(boosting_type=\"gbdt\",random_state=42, \n",
    "                         learning_rate=0.01, bagging_freq=15,\n",
    "                         n_estimators=1000) # alias of num_iterations\n",
    "param_grid = {'max_depth':[14,15,16],'num_leaves':[50,75,100], \n",
    "              'feature_fraction':[.4,.5,.6],'bagging_fraction':[.9,1.]}\n",
    "cv = GridSearchCV(lgbm, param_grid, cv=5, scoring='neg_mean_squared_error')\n",
    "cv.fit(X_train, y_train)\n",
    "print_results(cv)"
   ]
  },
  {
   "cell_type": "markdown",
   "metadata": {},
   "source": [
    "Some lower values for the number of leaves also gave similar results and this lower range of num_leaves worked better with feature scaling."
   ]
  },
  {
   "cell_type": "code",
   "execution_count": 137,
   "metadata": {
    "scrolled": true
   },
   "outputs": [
    {
     "name": "stdout",
     "output_type": "stream",
     "text": [
      "Best Hyper-parameters found: {'lgbm__bagging_fraction': 1.0, 'lgbm__feature_fraction': 0.5, 'lgbm__max_depth': 15, 'lgbm__num_leaves': 75}\n",
      "Best RMSE score on development set: 119955\n",
      "\n",
      "RMSE on test set: 119439\n",
      "R^2 on test set: 0.8903\n"
     ]
    }
   ],
   "source": [
    "# with feature scaling\n",
    "lgbm = lgb.LGBMRegressor(boosting_type=\"gbdt\",random_state=42, \n",
    "                         learning_rate=0.01, bagging_freq=15,\n",
    "                         n_estimators=1000) # alias of num_iterations\n",
    "steps = [('scale',StandardScaler()), ('lgbm', lgbm)] #\n",
    "pl = Pipeline(steps)\n",
    "param_grid = {'lgbm__max_depth':[14,15,16],'lgbm__num_leaves':[50,75,100], \n",
    "              'lgbm__feature_fraction':[.4,.5,.6],'lgbm__bagging_fraction':[.9,1.]}\n",
    "cv = GridSearchCV(pl, param_grid, cv=5, scoring='neg_mean_squared_error')\n",
    "cv.fit(X_train, y_train)\n",
    "print_results(cv)"
   ]
  },
  {
   "cell_type": "code",
   "execution_count": 178,
   "metadata": {},
   "outputs": [
    {
     "name": "stdout",
     "output_type": "stream",
     "text": [
      "0.89 %\n"
     ]
    }
   ],
   "source": [
    "# RMSE improvement by feature scaling\n",
    "print(round((120506-119439)/120506*100, 2),'%')"
   ]
  },
  {
   "cell_type": "markdown",
   "metadata": {},
   "source": [
    "I tried feature scaling again although it has no effect on RF and XGBoost. This time I had a success!!  Feature scaling with newly tuned hyperparameters slightly dereased RMSE from 120506 to 119439 (.89% improvement)."
   ]
  },
  {
   "cell_type": "markdown",
   "metadata": {},
   "source": [
    "#### Best LightGBM model found"
   ]
  },
  {
   "cell_type": "code",
   "execution_count": 172,
   "metadata": {
    "scrolled": true
   },
   "outputs": [
    {
     "name": "stdout",
     "output_type": "stream",
     "text": [
      "Best Hyper-parameters found: {'lgbm__bagging_fraction': 1.0, 'lgbm__feature_fraction': 0.5, 'lgbm__max_depth': 15, 'lgbm__num_leaves': 75}\n",
      "Best RMSE score on development set: 119955\n",
      "\n",
      "RMSE on test set: 119439\n",
      "R^2 on test set: 0.8903\n",
      "Wall time: 18.5 s\n"
     ]
    }
   ],
   "source": [
    "%%time\n",
    "# Best model for LightGBM\n",
    "lgbm = lgb.LGBMRegressor(boosting_type=\"gbdt\",random_state=42, \n",
    "                         learning_rate=0.01, bagging_freq=15,\n",
    "                         n_estimators=1000) # alias of num_iterations\n",
    "steps = [('scale',StandardScaler()), ('lgbm', lgbm)] #\n",
    "pl = Pipeline(steps)\n",
    "param_grid = {'lgbm__max_depth':[15],'lgbm__num_leaves':[75], \n",
    "              'lgbm__feature_fraction':[.5],'lgbm__bagging_fraction':[1.]}\n",
    "cv = GridSearchCV(pl, param_grid, cv=5, scoring='neg_mean_squared_error')\n",
    "cv.fit(X_train, y_train)\n",
    "print_results(cv)"
   ]
  },
  {
   "cell_type": "code",
   "execution_count": 177,
   "metadata": {},
   "outputs": [
    {
     "data": {
      "text/plain": [
       "-1.8235294117647058"
      ]
     },
     "execution_count": 177,
     "metadata": {},
     "output_type": "execute_result"
    }
   ],
   "source": [
    "# RMSE improvemnet from XGBoost\n",
    "(117300-119439)/117300*100"
   ]
  },
  {
   "cell_type": "markdown",
   "metadata": {},
   "source": [
    "- LightGBM showed the similar performance with XGBoost (slightly worse)! The root mean squared error (RMSE) of the best LighGBM model on the test set is 119439, which corresponds to 1.82% increase from RMSE of the best XGBoost, 117300.\n",
    "- The R-squared score on the test set shows 89.03% of variability in the data is explained by this best XGBoost model.\n",
    "- It took only 18.5 seconds to run the final model. This is so much faster than both XGBoost (43.4sec) and Random Forest (2min 44sec)! However, hyperparameter tuning for LightGBM was slightly more challenging than XGBoost."
   ]
  },
  {
   "cell_type": "code",
   "execution_count": 173,
   "metadata": {},
   "outputs": [],
   "source": [
    "# Save the trained model (for later)\n",
    "lgbm_trained = cv\n",
    "file_name='lgbm_trained.sav'\n",
    "pickle.dump(cv, open(file_name,'wb'))\n",
    "#lgbm_trained = pickle.loads(open(file_name,'rb'))"
   ]
  },
  {
   "cell_type": "markdown",
   "metadata": {},
   "source": [
    "<a id= 'Section6'></a>\n",
    "\n",
    "## 6. Neural Network"
   ]
  },
  {
   "cell_type": "code",
   "execution_count": null,
   "metadata": {},
   "outputs": [],
   "source": []
  },
  {
   "cell_type": "code",
   "execution_count": 318,
   "metadata": {},
   "outputs": [],
   "source": [
    "from keras.models import Sequential\n",
    "from keras.layers import Dense\n",
    "from keras.layers import Dropout\n",
    "from keras.wrappers.scikit_learn import KerasRegressor\n",
    "from keras.callbacks import ModelCheckpoint\n",
    "from keras.callbacks import EarlyStopping\n",
    "from keras.callbacks import TensorBoard\n",
    "import tensorflow as tf\n",
    "from tensorflow import keras\n",
    "import keras.backend as K"
   ]
  },
  {
   "cell_type": "markdown",
   "metadata": {},
   "source": [
    "- I hoped to show where (at which epoch nunmber) the performance stops improving visually, but found there is no straight forward way to store history of every epoch using cross validation with multiple folds (for example, GridSearchCV I've been using for other models). Thus, I stopped using sklearn GridSearchCV for neural network models although I can use it with Keras wrapper like this webpage https://machinelearningmastery.com/regression-tutorial-keras-deep-learning-library-python/. \n",
    "- I found this tensorflow webpage https://www.tensorflow.org/tutorials/keras/basic_regression very helpful for building and testing neural network models. "
   ]
  },
  {
   "cell_type": "markdown",
   "metadata": {},
   "source": [
    "#### Feature scaling"
   ]
  },
  {
   "cell_type": "code",
   "execution_count": 181,
   "metadata": {},
   "outputs": [],
   "source": [
    "# feature scaling\n",
    "mean = X_train.mean(axis=0)\n",
    "std = X_train.std(axis=0)\n",
    "X_train_scaled = (X_train-mean)/std\n",
    "X_test_scaled = (X_test-mean)/std"
   ]
  },
  {
   "cell_type": "markdown",
   "metadata": {},
   "source": [
    "Since I do not use the sklearn pipeline anymore, feature values were manually scaled with mean and standard deviation of the training set. Note that both training and test sets are scaled by the mean and std of the training set since we assume the test set is unseen data.  "
   ]
  },
  {
   "cell_type": "code",
   "execution_count": 189,
   "metadata": {
    "scrolled": true
   },
   "outputs": [
    {
     "name": "stdout",
     "output_type": "stream",
     "text": [
      "Training set: (17277, 41)\n",
      "Test set:  (4320, 41)\n"
     ]
    }
   ],
   "source": [
    "# shapes of scaled training and test sets (same as before)\n",
    "print(\"Training set: {}\".format(X_train_scaled.shape))  \n",
    "print(\"Test set:  {}\".format(X_test_scaled.shape)) "
   ]
  },
  {
   "cell_type": "markdown",
   "metadata": {},
   "source": [
    "#### Make helper functions"
   ]
  },
  {
   "cell_type": "code",
   "execution_count": 230,
   "metadata": {},
   "outputs": [],
   "source": [
    "# Metric to be calculated for each epoch\n",
    "def root_mean_squared_error(y_true, y_pred):\n",
    "        return K.sqrt(K.mean(K.square(y_pred - y_true)))  #axis=-1 for mean not working"
   ]
  },
  {
   "cell_type": "markdown",
   "metadata": {},
   "source": [
    "As before, RMSE will be used to evaluate the model. Unlike other models, neural netowrk models are required we need to calculate "
   ]
  },
  {
   "cell_type": "code",
   "execution_count": 235,
   "metadata": {},
   "outputs": [],
   "source": [
    "# Print a dot for each epoch to show training progress\n",
    "class PrintDot(keras.callbacks.Callback):\n",
    "    def on_epoch_end(self, epoch, logs):\n",
    "        if epoch % 100 == 0: print('')\n",
    "        print('.', end='')"
   ]
  },
  {
   "cell_type": "code",
   "execution_count": 282,
   "metadata": {},
   "outputs": [],
   "source": [
    "# Plot RMSE as a function of epoch\n",
    "def plot_history(history):\n",
    "    plt.figure()\n",
    "    plt.xlabel('Epoch')\n",
    "    plt.ylabel('Root_mean_squared_error ($)')\n",
    "    plt.plot(history.epoch, np.array(history.history['root_mean_squared_error']),\n",
    "           label='Train Loss')\n",
    "    plt.plot(history.epoch, np.array(history.history['val_root_mean_squared_error']),\n",
    "           label = 'Validation loss')\n",
    "    plt.legend()"
   ]
  },
  {
   "cell_type": "code",
   "execution_count": 553,
   "metadata": {},
   "outputs": [],
   "source": [
    "# Early stop\n",
    "early_stop = EarlyStopping(monitor='val_loss', patience=20)"
   ]
  },
  {
   "cell_type": "markdown",
   "metadata": {},
   "source": [
    "- I will use early stop with patience=20 meaning a model will stop training when its loss is not improved over 20 epochs. \n",
    "- I can restore the best weights (20 earlier epoch from the last epoch) using the argument 'restore_best_weights=True', but this did not allow to store metircs, here RMSE, for every epoch in history (only losses are stored). Anyway I checked if restoring best weights improves predictions on the test, but it never did (possible due to less epochs). Thus, I decided to use just the last weights."
   ]
  },
  {
   "cell_type": "code",
   "execution_count": 309,
   "metadata": {},
   "outputs": [],
   "source": [
    "# function that print results of neural network models\n",
    "def print_results_NN(model_history,X_test,y_test):\n",
    "    #loss_test, rmse_test = model_history.model.evaluate(X_test,y_test,verbose=0) #not working properly\n",
    "    last_epoch = model_history.epoch[-1]\n",
    "    last_rmse_val = model_history.history['val_root_mean_squared_error'][-1]\n",
    "    y_pred = model_history.model.predict(X_test).flatten()\n",
    "    rmse_test = np.sqrt(np.mean(np.square(y_pred-y_test)))\n",
    "    r_squared = r2_score(y_test, y_pred)\n",
    "    print(\"Last epoch: {}\".format(last_epoch)) \n",
    "    print(\"Last RMSE score on development set: {:.0f}\".format(last_rmse_val))\n",
    "    print(\"\\nRMSE on test set: {:.0f}\".format(rmse_test))\n",
    "    print(\"R^2 on test set: {:.4f}\".format(r_squared))"
   ]
  },
  {
   "cell_type": "markdown",
   "metadata": {},
   "source": [
    "- As before, I will report RMSE for both validation and test sets and R-squared for the test set. The last epoch will show where the model stopped training. \n",
    "- I found keras evalute() method does not output the exact metric and found a lot of people have the same issue (for example, https://stackoverflow.com/questions/44476706/difference-between-keras-model-evaluate-and-model-predict). It seems the differences in RMSE between predict() method and evaluate() are made since evaluate() calculate metrics using averaged metrics on batches. RMSE, unlike MAE, is vulnerable on these situations since mean of square root of something and square root of mean of something can give very differnt values (see my discussion on my print_results() function). When I used evaluate() method by following the tensorflow webpage (mentioned and linked above), I was very happy to get such a low RMSE. However, I soon realized there is something wrong with the value when I checked RMSE with predict() method. Therefore, I used predict() method to calculate RMSE on the whole test set manually and this can give fair comparisons to the previous models"
   ]
  },
  {
   "cell_type": "markdown",
   "metadata": {},
   "source": [
    "#### Neural network models"
   ]
  },
  {
   "cell_type": "markdown",
   "metadata": {},
   "source": [
    "I tried 5 models with different depths. I used the default batch_size 32 for all models."
   ]
  },
  {
   "cell_type": "code",
   "execution_count": 238,
   "metadata": {},
   "outputs": [],
   "source": [
    "# Build model \n",
    "def nn_model_1(): \n",
    "    # create model\n",
    "    model = Sequential()\n",
    "    model.add(Dense(128, input_dim=41, kernel_initializer='normal', activation='relu'))\n",
    "    model.add(Dense(256, kernel_initializer='normal', activation='relu'))\n",
    "    model.add(Dense(1, kernel_initializer='normal', activation='linear'))\n",
    "    # Compile model\n",
    "    model.compile(loss='mean_squared_error', optimizer='adam', \n",
    "                  metrics=[root_mean_squared_error])\n",
    "    return model"
   ]
  },
  {
   "cell_type": "code",
   "execution_count": 240,
   "metadata": {
    "scrolled": false
   },
   "outputs": [
    {
     "name": "stdout",
     "output_type": "stream",
     "text": [
      "\n",
      "....................................................................................................\n",
      "...................................................................................................."
     ]
    },
    {
     "data": {
      "image/png": "[encoded data removed]",
      "text/plain": [
       "<Figure size 432x288 with 1 Axes>"
      ]
     },
     "metadata": {},
     "output_type": "display_data"
    }
   ],
   "source": [
    "model = nn_model_1()\n",
    "history = model.fit(X_train_scaled, y_train, epochs=200,\n",
    "                    validation_split=0.2, verbose=0,\n",
    "                    callbacks=[early_stop, PrintDot()])\n",
    "history_model_1 = history\n",
    "plot_history(history_model_1)"
   ]
  },
  {
   "cell_type": "code",
   "execution_count": 310,
   "metadata": {},
   "outputs": [
    {
     "name": "stdout",
     "output_type": "stream",
     "text": [
      "Last epoch: 199\n",
      "Last RMSE score on development set: 127480\n",
      "\n",
      "RMSE on test set: 133781\n",
      "R^2 on test set: 0.8624\n"
     ]
    }
   ],
   "source": [
    "print_results_NN(history_model_1,X_test_scaled,y_test)"
   ]
  },
  {
   "cell_type": "markdown",
   "metadata": {},
   "source": [
    "Not a bad start! The model 1 quickly reduced RMSE within a few epochs and made a small but continous improvment until 199 epochs."
   ]
  },
  {
   "cell_type": "code",
   "execution_count": 242,
   "metadata": {},
   "outputs": [],
   "source": [
    "# Build model \n",
    "def nn_model_2(): \n",
    "    # create model\n",
    "    model = Sequential()\n",
    "    model.add(Dense(128, input_dim=41, kernel_initializer='normal', activation='relu'))\n",
    "    model.add(Dense(256, kernel_initializer='normal', activation='relu'))\n",
    "    model.add(Dense(256, kernel_initializer='normal', activation='relu'))\n",
    "    model.add(Dense(1, kernel_initializer='normal', activation='linear'))\n",
    "    # Compile model\n",
    "    model.compile(loss='mean_squared_error', optimizer='adam', \n",
    "                  metrics=[root_mean_squared_error])\n",
    "    return model"
   ]
  },
  {
   "cell_type": "code",
   "execution_count": 274,
   "metadata": {},
   "outputs": [
    {
     "name": "stdout",
     "output_type": "stream",
     "text": [
      "\n",
      "....................................................................................................\n",
      "................................."
     ]
    },
    {
     "data": {
      "image/png": "[encoded data removed]",
      "text/plain": [
       "<Figure size 432x288 with 1 Axes>"
      ]
     },
     "metadata": {},
     "output_type": "display_data"
    }
   ],
   "source": [
    "model = nn_model_2()\n",
    "history = model.fit(X_train_scaled, y_train, epochs=200,\n",
    "                    validation_split=0.2, verbose=0,\n",
    "                    callbacks=[early_stop, PrintDot()])\n",
    "history_model_2 = history\n",
    "plot_history(history)"
   ]
  },
  {
   "cell_type": "code",
   "execution_count": 311,
   "metadata": {
    "scrolled": true
   },
   "outputs": [
    {
     "name": "stdout",
     "output_type": "stream",
     "text": [
      "Last epoch: 132\n",
      "Last RMSE score on development set: 120048\n",
      "\n",
      "RMSE on test set: 123323\n",
      "R^2 on test set: 0.8831\n"
     ]
    }
   ],
   "source": [
    "print_results_NN(history_model_2,X_test_scaled,y_test)"
   ]
  },
  {
   "cell_type": "markdown",
   "metadata": {},
   "source": [
    "One more layer reduced RMSE from 133781 to 123323!! I will keep adding a layer with 256 units until it stops improving."
   ]
  },
  {
   "cell_type": "code",
   "execution_count": 245,
   "metadata": {},
   "outputs": [],
   "source": [
    "# Build model \n",
    "def nn_model_3(): \n",
    "    # create model\n",
    "    model = Sequential()\n",
    "    model.add(Dense(128, input_dim=41, kernel_initializer='normal', activation='relu'))\n",
    "    model.add(Dense(256, kernel_initializer='normal', activation='relu'))\n",
    "    model.add(Dense(256, kernel_initializer='normal', activation='relu'))\n",
    "    model.add(Dense(256, kernel_initializer='normal', activation='relu'))\n",
    "    model.add(Dense(1, kernel_initializer='normal', activation='linear'))\n",
    "    # Compile model\n",
    "    model.compile(loss='mean_squared_error', optimizer='adam', \n",
    "                  metrics=[root_mean_squared_error])\n",
    "    return model"
   ]
  },
  {
   "cell_type": "code",
   "execution_count": 275,
   "metadata": {},
   "outputs": [
    {
     "name": "stdout",
     "output_type": "stream",
     "text": [
      "\n",
      ".........................................................................................."
     ]
    },
    {
     "data": {
      "image/png": "[encoded data removed]",
      "text/plain": [
       "<Figure size 432x288 with 1 Axes>"
      ]
     },
     "metadata": {},
     "output_type": "display_data"
    }
   ],
   "source": [
    "model = nn_model_3()\n",
    "history = model.fit(X_train_scaled, y_train, epochs=200,\n",
    "                    validation_split=0.2, verbose=0,\n",
    "                    callbacks=[early_stop, PrintDot()])\n",
    "history_model_3 = history\n",
    "plot_history(history)"
   ]
  },
  {
   "cell_type": "code",
   "execution_count": 328,
   "metadata": {
    "scrolled": true
   },
   "outputs": [
    {
     "name": "stdout",
     "output_type": "stream",
     "text": [
      "Last epoch: 89\n",
      "Last RMSE score on development set: 123943\n",
      "\n",
      "RMSE on test set: 124828\n",
      "R^2 on test set: 0.8802\n"
     ]
    }
   ],
   "source": [
    "print_results_NN(history_model_3,X_test_scaled,y_test)"
   ]
  },
  {
   "cell_type": "markdown",
   "metadata": {},
   "source": [
    "RMSE NOT reduced!! It was incresed to 124828 from 123323, but I will try one more layer."
   ]
  },
  {
   "cell_type": "code",
   "execution_count": 552,
   "metadata": {},
   "outputs": [],
   "source": [
    "# Build model \n",
    "def nn_model_4(): \n",
    "    # create model\n",
    "    model = Sequential()\n",
    "    model.add(Dense(128, input_dim=41, kernel_initializer='normal', activation='relu'))\n",
    "    model.add(Dense(256, kernel_initializer='normal', activation='relu'))\n",
    "    model.add(Dense(256, kernel_initializer='normal', activation='relu'))\n",
    "    model.add(Dense(256, kernel_initializer='normal', activation='relu'))\n",
    "    model.add(Dense(256, kernel_initializer='normal', activation='relu'))\n",
    "    model.add(Dense(1, kernel_initializer='normal', activation='linear'))\n",
    "    # Compile model\n",
    "    model.compile(loss='mean_squared_error', optimizer='adam', \n",
    "                  metrics=[root_mean_squared_error])\n",
    "    return model"
   ]
  },
  {
   "cell_type": "code",
   "execution_count": 554,
   "metadata": {},
   "outputs": [
    {
     "name": "stdout",
     "output_type": "stream",
     "text": [
      "\n",
      "........................................................................Wall time: 20min 23s\n"
     ]
    }
   ],
   "source": [
    "%%time\n",
    "# one more running with timing\n",
    "model = nn_model_4()\n",
    "history = model.fit(X_train_scaled, y_train, epochs=200,\n",
    "                    validation_split=0.2, verbose=0,\n",
    "                    callbacks=[early_stop, PrintDot()])"
   ]
  },
  {
   "cell_type": "code",
   "execution_count": 557,
   "metadata": {
    "scrolled": false
   },
   "outputs": [
    {
     "name": "stdout",
     "output_type": "stream",
     "text": [
      "Last epoch: 71\n",
      "Last RMSE score on development set: 118819\n",
      "\n",
      "RMSE on test set: 116252\n",
      "R^2 on test set: 0.8961\n"
     ]
    },
    {
     "data": {
      "image/png": "[encoded data removed]",
      "text/plain": [
       "<Figure size 432x288 with 1 Axes>"
      ]
     },
     "metadata": {},
     "output_type": "display_data"
    }
   ],
   "source": [
    "history_model_4 = history\n",
    "plot_history(history_model_4)\n",
    "print_results_NN(history_model_4,X_test_scaled,y_test)"
   ]
  },
  {
   "cell_type": "markdown",
   "metadata": {},
   "source": [
    "RMSE was reduced over 7000!! It is now 116252 (123323 for model 2). This is better than any other models I have tried."
   ]
  },
  {
   "cell_type": "code",
   "execution_count": 276,
   "metadata": {},
   "outputs": [],
   "source": [
    "# Build model \n",
    "def nn_model_5(): \n",
    "    # create model\n",
    "    model = Sequential()\n",
    "    model.add(Dense(128, input_dim=41, kernel_initializer='normal', activation='relu'))\n",
    "    model.add(Dense(256, kernel_initializer='normal', activation='relu'))\n",
    "    model.add(Dense(256, kernel_initializer='normal', activation='relu'))\n",
    "    model.add(Dense(256, kernel_initializer='normal', activation='relu'))\n",
    "    model.add(Dense(256, kernel_initializer='normal', activation='relu'))\n",
    "    model.add(Dense(256, kernel_initializer='normal', activation='relu'))\n",
    "    model.add(Dense(1, kernel_initializer='normal', activation='linear'))\n",
    "    # Compile model\n",
    "    model.compile(loss='mean_squared_error', optimizer='adam', \n",
    "                  metrics=[root_mean_squared_error])\n",
    "    return model"
   ]
  },
  {
   "cell_type": "code",
   "execution_count": 277,
   "metadata": {},
   "outputs": [
    {
     "name": "stdout",
     "output_type": "stream",
     "text": [
      "\n",
      "......................................................................Wall time: 22min 37s\n"
     ]
    },
    {
     "data": {
      "image/png": "[encoded data removed]",
      "text/plain": [
       "<Figure size 432x288 with 1 Axes>"
      ]
     },
     "metadata": {},
     "output_type": "display_data"
    }
   ],
   "source": [
    "%%time\n",
    "model = nn_model_5()\n",
    "history = model.fit(X_train_scaled, y_train, epochs=200,\n",
    "                    validation_split=0.2, verbose=0,\n",
    "                    callbacks=[early_stop, PrintDot()])\n",
    "history_model_5 = history\n",
    "plot_history(history)"
   ]
  },
  {
   "cell_type": "code",
   "execution_count": 313,
   "metadata": {},
   "outputs": [
    {
     "name": "stdout",
     "output_type": "stream",
     "text": [
      "Last epoch: 69\n",
      "Last RMSE score on development set: 134690\n",
      "\n",
      "RMSE on test set: 135509\n",
      "R^2 on test set: 0.8589\n"
     ]
    }
   ],
   "source": [
    "print_results_NN(history_model_5,X_test_scaled,y_test)"
   ]
  },
  {
   "cell_type": "markdown",
   "metadata": {},
   "source": [
    "model 5 seems to be worse than model 4. Thus, I will stop adding a layer. Instead I will add Dropout layers to model 4 (the best model so far) for regularization to reduce overfitting."
   ]
  },
  {
   "cell_type": "code",
   "execution_count": 323,
   "metadata": {},
   "outputs": [],
   "source": [
    "# dropout added to model 4\n",
    "def nn_model_6(): \n",
    "    # create model\n",
    "    model = Sequential()\n",
    "    model.add(Dense(128, input_dim=41, kernel_initializer='normal', activation='relu'))\n",
    "    model.add(Dense(256, kernel_initializer='normal', activation='relu'))\n",
    "    model.add(Dropout(0.5)) #dropout\n",
    "    model.add(Dense(256, kernel_initializer='normal', activation='relu'))\n",
    "    model.add(Dense(256, kernel_initializer='normal', activation='relu'))\n",
    "    model.add(Dropout(0.5)) #dropout\n",
    "    model.add(Dense(256, kernel_initializer='normal', activation='relu'))\n",
    "    model.add(Dense(1, kernel_initializer='normal', activation='linear'))\n",
    "    # Compile model\n",
    "    model.compile(loss='mean_squared_error', optimizer='adam', \n",
    "                  metrics=[root_mean_squared_error])\n",
    "    return model"
   ]
  },
  {
   "cell_type": "code",
   "execution_count": 324,
   "metadata": {},
   "outputs": [
    {
     "name": "stdout",
     "output_type": "stream",
     "text": [
      "\n",
      "....................................................................................................\n",
      ".......Wall time: 33min 29s\n"
     ]
    },
    {
     "data": {
      "image/png": "[encoded data removed]",
      "text/plain": [
       "<Figure size 432x288 with 1 Axes>"
      ]
     },
     "metadata": {},
     "output_type": "display_data"
    }
   ],
   "source": [
    "%%time\n",
    "model = nn_model_6()\n",
    "history = model.fit(X_train_scaled, y_train, epochs=200,\n",
    "                    validation_split=0.2, verbose=0,\n",
    "                    callbacks=[early_stop, PrintDot()])\n",
    "history_model_6 = history\n",
    "plot_history(history_model_6)"
   ]
  },
  {
   "cell_type": "code",
   "execution_count": 327,
   "metadata": {
    "scrolled": true
   },
   "outputs": [
    {
     "name": "stdout",
     "output_type": "stream",
     "text": [
      "Last epoch: 106\n",
      "Last RMSE score on development set: 127645\n",
      "\n",
      "RMSE on test set: 122515\n",
      "R^2 on test set: 0.8846\n"
     ]
    }
   ],
   "source": [
    "print_results_NN(history_model_6,X_test_scaled,y_test)"
   ]
  },
  {
   "cell_type": "markdown",
   "metadata": {},
   "source": [
    "The graph shows less gap in loss betwteen training and validation sets. This means the dropout layers reduce overfitting, but the dropout layers did not improve the performance. "
   ]
  },
  {
   "cell_type": "markdown",
   "metadata": {},
   "source": [
    "#### Without early stopping\n",
    "What happens if I run the model 4 without early stop?"
   ]
  },
  {
   "cell_type": "code",
   "execution_count": 353,
   "metadata": {},
   "outputs": [],
   "source": [
    "def nn_model_4(): \n",
    "    # create model\n",
    "    model = Sequential()\n",
    "    model.add(Dense(128, input_dim=41, kernel_initializer='normal', activation='relu'))\n",
    "    model.add(Dense(256, kernel_initializer='normal', activation='relu'))\n",
    "    model.add(Dense(256, kernel_initializer='normal', activation='relu'))\n",
    "    model.add(Dense(256, kernel_initializer='normal', activation='relu'))\n",
    "    model.add(Dense(256, kernel_initializer='normal', activation='relu'))\n",
    "    model.add(Dense(1, kernel_initializer='normal', activation='linear'))\n",
    "    # Compile model\n",
    "    model.compile(loss='mean_squared_error', optimizer='adam', \n",
    "                  metrics=[root_mean_squared_error])\n",
    "    return model"
   ]
  },
  {
   "cell_type": "code",
   "execution_count": 354,
   "metadata": {},
   "outputs": [
    {
     "name": "stdout",
     "output_type": "stream",
     "text": [
      "\n",
      "....................................................................................................\n",
      "....................................................................................................Wall time: 59min 45s\n"
     ]
    }
   ],
   "source": [
    "%%time\n",
    "model = nn_model_4()\n",
    "history = model.fit(X_train_scaled, y_train, epochs=200,\n",
    "                    validation_split=0.2, verbose=0,\n",
    "                    callbacks=[PrintDot()]) #early_stop removed\n",
    "history_model_4_no_earlystop = history"
   ]
  },
  {
   "cell_type": "code",
   "execution_count": 355,
   "metadata": {},
   "outputs": [
    {
     "name": "stdout",
     "output_type": "stream",
     "text": [
      "Last epoch: 199\n",
      "Last RMSE score on development set: 127245\n",
      "\n",
      "RMSE on test set: 134116\n",
      "R^2 on test set: 0.8617\n"
     ]
    },
    {
     "data": {
      "image/png": "[encoded data removed]",
      "text/plain": [
       "<Figure size 432x288 with 1 Axes>"
      ]
     },
     "metadata": {},
     "output_type": "display_data"
    }
   ],
   "source": [
    "plot_history(history_model_4_no_earlystop)\n",
    "print_results_NN(history_model_4_no_earlystop,X_test_scaled,y_test)"
   ]
  },
  {
   "cell_type": "code",
   "execution_count": 358,
   "metadata": {
    "scrolled": true
   },
   "outputs": [
    {
     "name": "stdout",
     "output_type": "stream",
     "text": [
      "Last epoch: 199\n",
      "Last RMSE score on development set: 134209\n",
      "\n",
      "RMSE on test set: 138294\n",
      "R^2 on test set: 0.8530\n"
     ]
    }
   ],
   "source": [
    "print_results_NN(history_model_6_no_earlystop,X_test_scaled,y_test)"
   ]
  },
  {
   "cell_type": "markdown",
   "metadata": {},
   "source": [
    "If early stop is not applied, RMSE on the validation set goes slightly back up due to overfitting and consequently RMSE on the test set becomes higher. It is great I used early stop for all of my neural network models."
   ]
  },
  {
   "cell_type": "markdown",
   "metadata": {},
   "source": [
    "#### Best neural network model found"
   ]
  },
  {
   "cell_type": "markdown",
   "metadata": {},
   "source": [
    "The best neural network model I found here is model 4. Here is the structure of model 4."
   ]
  },
  {
   "cell_type": "code",
   "execution_count": 199,
   "metadata": {
    "scrolled": true
   },
   "outputs": [
    {
     "name": "stdout",
     "output_type": "stream",
     "text": [
      "_________________________________________________________________\n",
      "Layer (type)                 Output Shape              Param #   \n",
      "=================================================================\n",
      "dense_706 (Dense)            (None, 128)               5376      \n",
      "_________________________________________________________________\n",
      "dense_707 (Dense)            (None, 256)               33024     \n",
      "_________________________________________________________________\n",
      "dense_708 (Dense)            (None, 256)               65792     \n",
      "_________________________________________________________________\n",
      "dense_709 (Dense)            (None, 256)               65792     \n",
      "_________________________________________________________________\n",
      "dense_710 (Dense)            (None, 256)               65792     \n",
      "_________________________________________________________________\n",
      "dense_711 (Dense)            (None, 1)                 257       \n",
      "=================================================================\n",
      "Total params: 236,033\n",
      "Trainable params: 236,033\n",
      "Non-trainable params: 0\n",
      "_________________________________________________________________\n"
     ]
    }
   ],
   "source": [
    "model=nn_model_4()\n",
    "model.summary()"
   ]
  },
  {
   "cell_type": "code",
   "execution_count": 559,
   "metadata": {
    "scrolled": false
   },
   "outputs": [
    {
     "name": "stdout",
     "output_type": "stream",
     "text": [
      "Last epoch: 71\n",
      "Last RMSE score on development set: 118819\n",
      "\n",
      "RMSE on test set: 116252\n",
      "R^2 on test set: 0.8961\n"
     ]
    }
   ],
   "source": [
    "print_results_NN(history_model_4,X_test_scaled,y_test)"
   ]
  },
  {
   "cell_type": "code",
   "execution_count": 560,
   "metadata": {},
   "outputs": [
    {
     "data": {
      "text/plain": [
       "2.668307671698524"
      ]
     },
     "execution_count": 560,
     "metadata": {},
     "output_type": "execute_result"
    }
   ],
   "source": [
    "# RMSE improvement from LightGBM\n",
    "(119439-116252)/119439*100"
   ]
  },
  {
   "cell_type": "markdown",
   "metadata": {},
   "source": [
    "- The best neural network model had value 116252 for RMSE on the test set. This value corresponds to 2.67% increse from RMSE of the best LightGBM, 119439. \n",
    "- The R-squared score on the test set shows 89.61% of variability in the data is explained by this best neural network model.\n",
    "- It took around 22 min 37 seconds to run the final model. This is so much slower than all other machine learning algorithms.  It also required a lot of work to try different depths and units of neural networks.\n",
    "- So far I found Neural Network is the best, XGBoost is the second best, and LightGBM is next in terms of RMSE. However, the three had very similar RMSE."
   ]
  },
  {
   "cell_type": "markdown",
   "metadata": {},
   "source": [
    "<a id= 'Section7'></a>\n",
    "\n",
    "## 7. Feature Importances"
   ]
  },
  {
   "cell_type": "markdown",
   "metadata": {},
   "source": [
    "I will do some analysis on feature importances using the tree-based models, Random Forest, XGBoost, and LightBBM, which conveniently have feature\\_importances\\_ attribute."
   ]
  },
  {
   "cell_type": "code",
   "execution_count": 505,
   "metadata": {},
   "outputs": [],
   "source": [
    "# Make a function that draw a feature importance plot\n",
    "def plot_feature_importances(model_name, importances, feature_names, num_features=None, \n",
    "                             fig_size=None, ax=None):\n",
    "    features_importances = pd.DataFrame(sorted(zip(feature_names, importances), \n",
    "                                           key = lambda tup: tup[1], reverse=True),\n",
    "                                   columns=['features','importances'])\n",
    "    data = features_importances[:num_features]\n",
    "    data.plot('features','importances', kind='barh', ax=ax,\n",
    "              color='blue', figsize=fig_size, legend = None)\n",
    "    plt.gca().invert_yaxis() # reverse the order of features\n",
    "    plt.ylabel('feature importances')\n",
    "    if num_features:\n",
    "        plt.title(model_name + '\\nTop '+str(num_features))\n",
    "    else: \n",
    "        plt.title(model_name + '\\nAll Features')"
   ]
  },
  {
   "cell_type": "markdown",
   "metadata": {},
   "source": [
    "#### All features"
   ]
  },
  {
   "cell_type": "code",
   "execution_count": 500,
   "metadata": {},
   "outputs": [
    {
     "data": {
      "image/png": "[encoded data removed]",
      "text/plain": [
       "<Figure size 576x432 with 1 Axes>"
      ]
     },
     "metadata": {},
     "output_type": "display_data"
    }
   ],
   "source": [
    "# Random Forest\n",
    "importances = rf_trained.best_estimator_.feature_importances_\n",
    "# all features\n",
    "plot_feature_importances('Random Forest', importances, df.columns[1:], fig_size=(8,6))"
   ]
  },
  {
   "cell_type": "code",
   "execution_count": 501,
   "metadata": {},
   "outputs": [
    {
     "data": {
      "image/png": "[encoded data removed]",
      "text/plain": [
       "<Figure size 576x432 with 1 Axes>"
      ]
     },
     "metadata": {},
     "output_type": "display_data"
    }
   ],
   "source": [
    "# XGBoost\n",
    "importances = xgb_trained.best_estimator_.named_steps['xgb'].feature_importances_\n",
    "# all features\n",
    "plot_feature_importances('XGBoost', importances, df.columns[1:], fig_size=(8,6))"
   ]
  },
  {
   "cell_type": "code",
   "execution_count": 502,
   "metadata": {},
   "outputs": [
    {
     "data": {
      "image/png": "[encoded data removed]",
      "text/plain": [
       "<Figure size 576x432 with 1 Axes>"
      ]
     },
     "metadata": {},
     "output_type": "display_data"
    }
   ],
   "source": [
    "# LightGBM\n",
    "importances = lgbm_trained.best_estimator_.named_steps['lgbm'].feature_importances_\n",
    "# all features\n",
    "plot_feature_importances('LightGBM', importances, df.columns[1:], fig_size=(8,6))"
   ]
  },
  {
   "cell_type": "markdown",
   "metadata": {},
   "source": [
    "Overall the plots show the followings:\n",
    "- XGBoost and LightGBM agree the order of feature importances very well, but Random Forest has very different orders. \n",
    "- XGBoost and LightGBM tend to have features that all contribute the predictions. On the other hand, Random Forest has a few features that dominates the predictions and over a half of the features have almost no importance.   \n",
    "- Highly important features for the XGBoost and LightGBM will be described in the next subsection.\n",
    "- Moderately important features for XGBoost and LightGBM are those related to environment scores (derived from zipcode) \n",
    "- The least important features for all three models agree and they are those related to sold months."
   ]
  },
  {
   "cell_type": "markdown",
   "metadata": {},
   "source": [
    "#### Top 10 features\n",
    "\n",
    "Here I will show top ten feature importances only for XGBoost and LightGBM since Random Forest had much worse performance than the two."
   ]
  },
  {
   "cell_type": "code",
   "execution_count": 511,
   "metadata": {
    "scrolled": false
   },
   "outputs": [
    {
     "data": {
      "image/png": "[encoded data removed]",
      "text/plain": [
       "<Figure size 432x288 with 1 Axes>"
      ]
     },
     "metadata": {},
     "output_type": "display_data"
    },
    {
     "data": {
      "image/png": "[encoded data removed]",
      "text/plain": [
       "<Figure size 432x288 with 1 Axes>"
      ]
     },
     "metadata": {},
     "output_type": "display_data"
    }
   ],
   "source": [
    "# XGBoost\n",
    "importances = xgb_trained.best_estimator_.named_steps['xgb'].feature_importances_\n",
    "plot_feature_importances('XGBoost', importances, df.columns[1:], num_features=10)\n",
    "\n",
    "# LightGBM\n",
    "importances = lgbm_trained.best_estimator_.named_steps['lgbm'].feature_importances_\n",
    "plot_feature_importances('LightGBM', importances, df.columns[1:], num_features=10)\n",
    "\n",
    "plt.show()"
   ]
  },
  {
   "cell_type": "markdown",
   "metadata": {},
   "source": [
    "- The order of feature importances are different, but the top ten important features in the XGBoost and LightGBM models are exactly the same!!! \n",
    "- Both models have latitude and logitude within the top 3!! I noticed the longitude and latitude of houses are important in the price graph on the King County map in the EDA part of this project, but did not expected they are going to be the top features.\n",
    "- All 6 features representing square footages of house and lot area are included in top 10. They are 'sqft_living', 'sqft_living15', 'sqft_lot', 'sqft_lot15', 'sqft_basement', and 'sqft_above'.\n",
    "- The other two top 10 features are 'yr_built' and 'bathrooms' (so the number of bathrooms is more important than the number of bedrooms!!). "
   ]
  },
  {
   "cell_type": "markdown",
   "metadata": {},
   "source": [
    "<a id= 'Section8'></a>\n",
    "\n",
    "## 8. Conclusion"
   ]
  },
  {
   "cell_type": "markdown",
   "metadata": {},
   "source": [
    "#### Summary"
   ]
  },
  {
   "cell_type": "code",
   "execution_count": 562,
   "metadata": {
    "scrolled": true
   },
   "outputs": [
    {
     "data": {
      "text/html": [
       "<div>\n",
       "<style scoped>\n",
       "    .dataframe tbody tr th:only-of-type {\n",
       "        vertical-align: middle;\n",
       "    }\n",
       "\n",
       "    .dataframe tbody tr th {\n",
       "        vertical-align: top;\n",
       "    }\n",
       "\n",
       "    .dataframe thead th {\n",
       "        text-align: right;\n",
       "    }\n",
       "</style>\n",
       "<table border=\"1\" class=\"dataframe\">\n",
       "  <thead>\n",
       "    <tr style=\"text-align: right;\">\n",
       "      <th></th>\n",
       "      <th>RMSE_test</th>\n",
       "      <th>RMSE_val</th>\n",
       "      <th>R_squared</th>\n",
       "      <th>Time</th>\n",
       "    </tr>\n",
       "  </thead>\n",
       "  <tbody>\n",
       "    <tr>\n",
       "      <th>NeuralNetwork</th>\n",
       "      <td>116252</td>\n",
       "      <td>118819</td>\n",
       "      <td>0.8961</td>\n",
       "      <td>22min 37s</td>\n",
       "    </tr>\n",
       "    <tr>\n",
       "      <th>XGBoost</th>\n",
       "      <td>117300</td>\n",
       "      <td>116953</td>\n",
       "      <td>0.8942</td>\n",
       "      <td>43.4 s</td>\n",
       "    </tr>\n",
       "    <tr>\n",
       "      <th>LightGBM</th>\n",
       "      <td>119439</td>\n",
       "      <td>119955</td>\n",
       "      <td>0.8903</td>\n",
       "      <td>18.5 s</td>\n",
       "    </tr>\n",
       "    <tr>\n",
       "      <th>RandomForest</th>\n",
       "      <td>125872</td>\n",
       "      <td>131775</td>\n",
       "      <td>0.8782</td>\n",
       "      <td>2min 44s</td>\n",
       "    </tr>\n",
       "    <tr>\n",
       "      <th>LinearRegression</th>\n",
       "      <td>180464</td>\n",
       "      <td>178080</td>\n",
       "      <td>0.7497</td>\n",
       "      <td>507 ms</td>\n",
       "    </tr>\n",
       "  </tbody>\n",
       "</table>\n",
       "</div>"
      ],
      "text/plain": [
       "                  RMSE_test  RMSE_val  R_squared       Time\n",
       "NeuralNetwork        116252    118819     0.8961  22min 37s\n",
       "XGBoost              117300    116953     0.8942     43.4 s\n",
       "LightGBM             119439    119955     0.8903     18.5 s\n",
       "RandomForest         125872    131775     0.8782   2min 44s\n",
       "LinearRegression     180464    178080     0.7497     507 ms"
      ]
     },
     "execution_count": 562,
     "metadata": {},
     "output_type": "execute_result"
    }
   ],
   "source": [
    "model_summary = pd.DataFrame({'RMSE_val':[178080,131775,116953,119955,118819], \n",
    "                            'RMSE_test':[180464,125872,117300,119439,116252], \n",
    "                            'R_squared':[0.7497,0.8782,0.8942,0.8903,0.8961],\n",
    "                            'Time':['507 ms','2min 44s','43.4 s','18.5 s','22min 37s']},\n",
    "                           index=['LinearRegression', 'RandomForest','XGBoost','LightGBM','NeuralNetwork'])\n",
    "model_summary = model_summary.sort_values(by=['RMSE_test'])\n",
    "model_summary"
   ]
  },
  {
   "cell_type": "code",
   "execution_count": 588,
   "metadata": {
    "scrolled": false
   },
   "outputs": [
    {
     "data": {
      "image/png": "[encoded data removed]",
      "text/plain": [
       "<Figure size 432x288 with 1 Axes>"
      ]
     },
     "metadata": {},
     "output_type": "display_data"
    }
   ],
   "source": [
    "model_summary.RMSE_test.plot(kind='bar')\n",
    "plt.ylabel('Root mean squared error (RMSE)')\n",
    "plt.title('Model comparison\\n(sorted by RMSE)')\n",
    "plt.show()"
   ]
  },
  {
   "cell_type": "markdown",
   "metadata": {},
   "source": [
    "- RMSE: The dataframe and graph shows model performances in order. I found Neural Network is the best, XGBoost is the second best, and LightGBM is next in terms of RMSE. However, the top three models had not very differnt RMSE and r-squared scores. Their order can be easily changed by a different random state. The next best is Random Forest and its RMSE is still pretty low and r-squared value is .88. Linear regression was the absolute worst method.\n",
    "- Time: LightGBM was super fast comparing to its prediction power and the next best would be XGBoost (I'm not considering linear regression due to its poor performance although it is fast). Neural network would be the worst choice timewise.\n",
    "- Tuning and building models: I found that a Neural network model is the most difficult to build. There are so many choices to build a new model and each model takes a long time to run, so I just had to stop trying different structures when I found a Neural Network model that outperfomed all the other models. I think I will be able to find a better Neural Network model if I can spend more time on it. Tuning LightGBM and XGBoost was also somewhat challenging since there are so many hyper-parameters, but I felt more confident with my results."
   ]
  },
  {
   "cell_type": "markdown",
   "metadata": {},
   "source": [
    "#### Discussion"
   ]
  },
  {
   "cell_type": "markdown",
   "metadata": {},
   "source": [
    "- Dimension reduction methods could have been applied in order to improve predictions and speed up training. I only had 41 features and over 20,0000 data, so I didn't feel they are necessary. However, I would like to try feature projection such as Principal component analysis (PCA) or Non-negative matrix factorization(NMF) or some feature selection methods if there are more time.\n",
    "- I could have improved my predictions using different Neural network models or more thorough tuning for the tree-based models.\n",
    "- It would be helpful to graphically show a loss (or a metric) as a function of the number of estimators for XGBoost and LightGBM.\n",
    "- Later I realized using MAE rather than RMSE would be better for the evaluation metric because my data have many outliers which I do not want to penalize too much. However, I was puzzled a lot while using RMSE and learned a lot while trying to find answers to my questions.\n",
    "- I was concerned about the heteroscedasticity in my data and wondering if data transformation was necessary (see the figures below). I found a paper that answers some of my questions (Link: https://www.stat.sfu.ca/content/dam/sfu/stat/alumnitheses/2015/SharlaGelfandProject.pdf). It says tree models were least affected by variance-stabilizing transformations and neural nets making no assumption about heteroscedasticity were proved to be robust predictors."
   ]
  },
  {
   "cell_type": "code",
   "execution_count": 601,
   "metadata": {},
   "outputs": [
    {
     "data": {
      "image/png": "[encoded data removed]",
      "text/plain": [
       "<Figure size 432x288 with 1 Axes>"
      ]
     },
     "metadata": {},
     "output_type": "display_data"
    }
   ],
   "source": [
    "# Residuals vs Predicted price (by XGBoost)\n",
    "y_pred =  xgb_trained.predict(X_test)\n",
    "resid = y_test - y_pred\n",
    "plt.scatter(y_pred, resid, alpha=.3)\n",
    "plt.xlabel(\"Predicted price\")\n",
    "plt.ylabel(\"Residuals\")\n",
    "plt.title(\"Predicted price vs Residuals \\nXGBoost\")\n",
    "plt.axhline(y=0, color='r', linestyle='-')\n",
    "plt.show()"
   ]
  },
  {
   "cell_type": "code",
   "execution_count": 600,
   "metadata": {
    "scrolled": true
   },
   "outputs": [
    {
     "data": {
      "image/png": "[encoded data removed]",
      "text/plain": [
       "<Figure size 432x288 with 1 Axes>"
      ]
     },
     "metadata": {},
     "output_type": "display_data"
    }
   ],
   "source": [
    "# Residuals vs Predicted price (by LighGBM)\n",
    "y_pred =  lgbm_trained.predict(X_test)\n",
    "resid = y_test - y_pred\n",
    "plt.scatter(y_pred, resid, alpha=.3)\n",
    "plt.xlabel(\"Predicted price\")\n",
    "plt.ylabel(\"Residuals\")\n",
    "plt.title(\"Predicted price vs Residuals \\nLightGBM\")\n",
    "plt.axhline(y=0, color='r', linestyle='-')\n",
    "plt.show()"
   ]
  },
  {
   "cell_type": "code",
   "execution_count": 598,
   "metadata": {},
   "outputs": [
    {
     "data": {
      "image/png": "[encoded data removed]",
      "text/plain": [
       "<Figure size 432x288 with 1 Axes>"
      ]
     },
     "metadata": {},
     "output_type": "display_data"
    }
   ],
   "source": [
    "# Residuals vs Predicted price (by Neural network model)\n",
    "y_pred =  history_model_4.model.predict(X_test_scaled).flatten()\n",
    "resid = y_test - y_pred\n",
    "plt.scatter(y_pred, resid, alpha=.3)\n",
    "plt.xlabel(\"Predicted price\")\n",
    "plt.ylabel(\"Residuals\")\n",
    "plt.title(\"Predicted price vs Residuals\\nNeural Network\")\n",
    "plt.axhline(y=0, color='r', linestyle='-')\n",
    "plt.show()"
   ]
  },
  {
   "cell_type": "markdown",
   "metadata": {},
   "source": [
    "__References and Useful sources:__\n",
    "\n",
    "- http://scikit-learn.org/stable/tutorial/statistical_inference/putting_together.html (Pipelining)\n",
    "- http://scikit-learn.org/stable/auto_examples/preprocessing/plot_scaling_importance.html (Importance of feature scaling)\n",
    "- https://www.kdnuggets.com/2018/04/right-metric-evaluating-machine-learning-models-1.html (Choosing a right metric for regression)\n",
    "- https://towardsdatascience.com/how-to-select-the-right-evaluation-metric-for-machine-learning-models-part-1-regrression-metrics-3606e25beae0 (how to select the right evaluation metric for regression)\n",
    "- https://www.analyticsvidhya.com/blog/2016/03/complete-guide-parameter-tuning-xgboost-with-codes-python/ (XGBoost hyperparameter tuning)\n",
    "- https://www.analyticsvidhya.com/blog/2015/06/tuning-random-forest-model/ (Random Forest hyperparameter tuning)\n",
    "- https://towardsdatascience.com/hyperparameter-tuning-the-random-forest-in-python-using-scikit-learn-28d2aa77dd74 (Random Forest hyperparameter tuning)\n",
    "- http://scikit-learn.org/stable/modules/grid_search.html (Tuning the hyperparameters)\n",
    "- http://blog.kaggle.com/2017/01/23/a-kaggle-master-explains-gradient-boosting/ (A Kaggle Master Explains Gradient Boosting)\n",
    "- https://medium.com/@pushkarmandot/https-medium-com-pushkarmandot-what-is-lightgbm-how-to-implement-it-how-to-fine-tune-the-parameters-60347819b7fc (How to implement LightGBM)\n",
    "- https://lightgbm.readthedocs.io/en/latest/Parameters-Tuning.html (lightGBM hyperparameter tuning)\n",
    "- https://machinelearningmastery.com/regression-tutorial-keras-deep-learning-library-python/ (Regression tutorial with Keras)\n",
    "- https://towardsdatascience.com/epoch-vs-iterations-vs-batch-size-4dfb9c7ce9c9 (Epoch vs Batch size vs Iterations)\n",
    "- https://keras.io/callbacks/ (Keras callbacks)\n",
    "- https://www.tensorflow.org/tutorials/keras/basic_regression (Keras basic regression)\n",
    "- https://github.com/keras-team/keras/issues/9312 (why keras rmse is not equal sqrt(mse)?)\n",
    "- https://medium.com/human-in-a-machine-world/mae-and-rmse-which-metric-is-better-e60ac3bde13d (MSE vs MAE)\n",
    "- https://www.quora.com/Is-it-possible-to-have-a-higher-train-error-than-a-test-error-in-machine-learning\n",
    "- https://scikit-learn.org/stable/modules/generated/sklearn.ensemble.RandomForestRegressor.html \n",
    "- https://xgboost.readthedocs.io/en/latest/python/python_api.html#module-xgboost.sklearn\n",
    "- https://lightgbm.readthedocs.io/en/latest/Parameters.html"
   ]
  },
  {
   "cell_type": "code",
   "execution_count": null,
   "metadata": {},
   "outputs": [],
   "source": []
  }
 ],
 "metadata": {
  "kernelspec": {
   "display_name": "Python 3",
   "language": "python",
   "name": "python3"
  },
  "language_info": {
   "codemirror_mode": {
    "name": "ipython",
    "version": 3
   },
   "file_extension": ".py",
   "mimetype": "text/x-python",
   "name": "python",
   "nbconvert_exporter": "python",
   "pygments_lexer": "ipython3",
   "version": "3.6.4"
  }
 },
 "nbformat": 4,
 "nbformat_minor": 2
}
